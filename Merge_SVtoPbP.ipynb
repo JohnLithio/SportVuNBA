{
 "cells": [
  {
   "cell_type": "code",
   "execution_count": 273,
   "metadata": {},
   "outputs": [],
   "source": [
    "import pandas as pd\n",
    "from os.path import join\n",
    "\n",
    "sv_dir = 'SportVu CSVs'\n",
    "\n",
    "rebs_df = pd.read_csv('REBS_MissedFG.csv')\n",
    "\n",
    "# Given a game ID and a dataframe containing play-by-play data,\n",
    "# get a list of the event numbers from that game\n",
    "def getEventsFromGame(gameid, rebs_df):\n",
    "    return list(rebs_df[rebs_df['GAME_ID'] == int(gameid)]['EVENTNUM'])\n",
    "\n",
    "# Given a game ID and a dataframe containing play-by-play data,\n",
    "# get the SportVu data and merge it with the play-by-play data\n",
    "def mergeSVandPBP(gameid, rebs_df):\n",
    "    # Get SportVu data for given gameid\n",
    "    df = pd.read_csv(join(sv_dir, str(gameid).zfill(10) + '.csv'))\n",
    "    \n",
    "    # Get play-by-play data for only that game\n",
    "    game_rebs = rebs_df[rebs_df['GAME_ID'] == int(gameid)]\n",
    "    \n",
    "    # Merge the two dataframes\n",
    "    sv_rebs = df.merge(game_rebs, how='inner', left_on='event.id', right_on='EVENTNUM')\n",
    "    \n",
    "    return sv_rebs\n",
    "\n",
    "# Add columns for the distance to each rim\n",
    "def distToRims(df):\n",
    "    df['DIST_RIM1'] = ((df['x_loc']-5.25)**2 + (df['y_loc']-25)**2)**.5\n",
    "    df['DIST_RIM2'] = ((df['x_loc']-88.75)**2 + (df['y_loc']-25)**2)**.5\n",
    "\n",
    "# Transform SportVu data so that all data for one instance in time is on a single row\n",
    "# Does this for one game\n",
    "def rowsToCols(gameid, rebs_df):\n",
    "    df = mergeSVandPBP(gameid, rebs_df)\n",
    "    distToRims(df)\n",
    "    \n",
    "    df_all = pd.DataFrame()\n",
    "    \n",
    "    eventlist = getEventsFromGame(gameid, rebs_df)\n",
    "    for event in eventlist:\n",
    "        eventdf = df[df['event.id'] == event]\n",
    "\n",
    "        plist = sorted(list(eventdf['player_id'].unique()))\n",
    "        plist.remove(-1)\n",
    "\n",
    "        dft = pd.DataFrame()\n",
    "        try:\n",
    "            dft['EVENT_NUM'] = eventdf[eventdf['player_id'] == -1]['event.id'].values\n",
    "            dft['GAME_ID'] = gameid\n",
    "            dft['GAME_CLOCK'] = eventdf[eventdf['player_id'] == -1]['game_clock'].values\n",
    "            dft['QUARTER'] = eventdf[eventdf['player_id'] == -1]['quarter'].values\n",
    "            dft['SHOT_CLOCK'] = eventdf[eventdf['player_id'] == -1]['shot_clock'].values\n",
    "            dft['BALL_XLOC'] = eventdf[eventdf['player_id'] == -1]['x_loc'].values\n",
    "            dft['BALL_YLOC'] = eventdf[eventdf['player_id'] == -1]['y_loc'].values\n",
    "            dft['BALL_ZLOC'] = eventdf[eventdf['player_id'] == -1]['radius'].values\n",
    "            dft['BALL_DIST_RIM1'] = eventdf[eventdf['player_id'] == -1]['DIST_RIM1'].values\n",
    "            dft['BALL_DIST_RIM2'] = eventdf[eventdf['player_id'] == -1]['DIST_RIM2'].values\n",
    "            dft['SHOOTER_ID'] = eventdf['SHOOTER_ID'].iloc[0]\n",
    "            dft['SHOT_DISTANCE'] = eventdf['SHOT_DISTANCE'].iloc[0]\n",
    "            dft['OFFENSIVE_REB'] = eventdf['OFFENSIVE_REB'].iloc[0]\n",
    "\n",
    "            for i, p in enumerate(plist):\n",
    "                pnum = 'PLAYER' + str(i+1)\n",
    "                dft[pnum+'_ID'] = p\n",
    "                dft[pnum+'_TEAMID'] = eventdf[eventdf['player_id'] == p]['team_id'].values\n",
    "                dft[pnum+'_XLOC'] = eventdf[eventdf['player_id'] == p]['x_loc'].values\n",
    "                dft[pnum+'_YLOC'] = eventdf[eventdf['player_id'] == p]['y_loc'].values\n",
    "                dft[pnum+'_DIST_RIM1'] = eventdf[eventdf['player_id'] == p]['DIST_RIM1'].values\n",
    "                dft[pnum+'_DIST_RIM2'] = eventdf[eventdf['player_id'] == p]['DIST_RIM2'].values\n",
    "        \n",
    "            df_all = df_all.append(dft, ignore_index=True)\n",
    "            \n",
    "        # Do not include events where there is any missing data\n",
    "        except ValueError:\n",
    "            pass\n",
    "        \n",
    "    return df_all"
   ]
  },
  {
   "cell_type": "raw",
   "metadata": {},
   "source": [
    "Court is 94x50, rims are at (5.25, 25) and (88.75, 25). Halfcourt is at 47"
   ]
  },
  {
   "cell_type": "code",
   "execution_count": 274,
   "metadata": {},
   "outputs": [],
   "source": [
    "all_games = list(rebs_df['GAME_ID'].unique())"
   ]
  },
  {
   "cell_type": "raw",
   "metadata": {},
   "source": [
    "Let's get the number of players on the court for each event"
   ]
  },
  {
   "cell_type": "code",
   "execution_count": 275,
   "metadata": {},
   "outputs": [],
   "source": [
    "test = rowsToCols(all_games[0], rebs_df)"
   ]
  },
  {
   "cell_type": "code",
   "execution_count": null,
   "metadata": {},
   "outputs": [],
   "source": [
    "\n",
    "    "
   ]
  }
 ],
 "metadata": {
  "kernelspec": {
   "display_name": "Python 3",
   "language": "python",
   "name": "python3"
  },
  "language_info": {
   "codemirror_mode": {
    "name": "ipython",
    "version": 3
   },
   "file_extension": ".py",
   "mimetype": "text/x-python",
   "name": "python",
   "nbconvert_exporter": "python",
   "pygments_lexer": "ipython3",
   "version": "3.6.3"
  }
 },
 "nbformat": 4,
 "nbformat_minor": 2
}
