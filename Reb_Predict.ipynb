{
 "cells": [
  {
   "cell_type": "code",
   "execution_count": 43,
   "metadata": {},
   "outputs": [
    {
     "name": "stdout",
     "output_type": "stream",
     "text": [
      "Logit\n",
      "CV Recall: 0.46556775514848103\n",
      "[[3347  129]\n",
      " [ 420  347]]\n",
      "Scaled Accuracy: 0.8706104171576715\n",
      "Unscaled Accuracy: 0.870139052557153\n",
      "\n",
      "\n",
      "Neural Net\n",
      "CV Recall: 0.5135936966662873\n",
      "[[3321  155]\n",
      " [ 385  382]]\n",
      "Scaled Accuracy: 0.8727315578600047\n",
      "Unscaled Accuracy: 0.8326655668159322\n",
      "\n",
      "\n",
      "KNN\n",
      "CV Recall: 0.3385112071908067\n",
      "[[3245  231]\n",
      " [ 491  276]]\n",
      "Scaled Accuracy: 0.8298373792128211\n",
      "Unscaled Accuracy: 0.8133396181946736\n",
      "\n",
      "\n",
      "Gradient Boosted\n",
      "CV Recall: 0.5173825236090568\n",
      "[[3283  193]\n",
      " [ 377  390]]\n",
      "Scaled Accuracy: 0.8656610888522271\n",
      "Unscaled Accuracy: 0.8640113127504124\n",
      "\n",
      "\n",
      "21.45622754096985\n"
     ]
    }
   ],
   "source": [
    "import matplotlib.pyplot as plt\n",
    "import numpy as np\n",
    "import pandas as pd\n",
    "import time\n",
    "from imblearn.over_sampling import RandomOverSampler\n",
    "from sklearn import metrics\n",
    "from sklearn.linear_model import LogisticRegression\n",
    "from sklearn.ensemble import GradientBoostingClassifier\n",
    "from sklearn.neighbors import KNeighborsClassifier as KNN\n",
    "from sklearn.neural_network import MLPClassifier\n",
    "from sklearn.svm import SVC\n",
    "from sklearn.cross_validation import cross_val_score\n",
    "from sklearn.cross_validation import train_test_split\n",
    "from sklearn import preprocessing\n",
    "\n",
    "plt.style.use('seaborn')\n",
    "%matplotlib inline\n",
    "\n",
    "def scaleContinuous(X):\n",
    "    cont_df = X[(X.isin([0, 1])).all().\n",
    "                index[(X.isin([0, 1])).all() == False]]\n",
    "    df = pd.DataFrame(preprocessing.scale(cont_df), columns = cont_df.columns)\n",
    "    \n",
    "    bin_cols = (X.isin([0, 1])).all().index[(X.isin([0, 1])).all() == True]\n",
    "    df = pd.concat([df, pd.DataFrame(columns = bin_cols)])\n",
    "    df[bin_cols] = X[(X.isin([0, 1])).all().\n",
    "                     index[(X.isin([0, 1])).all() == True]].values\n",
    "    return df\n",
    "\n",
    "data = pd.read_csv(r'Rebound_Features.csv')\n",
    "drop_cols = []\n",
    "# drop_cols = [col for col in data.columns if 'VEL' in col]\n",
    "# drop_cols.extend([col for col in data.columns if 'BOXEDOUT' in col])\n",
    "drop_cols.append('REBOUNDER')\n",
    "\n",
    "X = data.drop(set(drop_cols), axis=1)\n",
    "y = data['REBOUNDER'].astype(int)\n",
    "\n",
    "t0 = time.time()\n",
    "\n",
    "X_train, X_test, y_train, y_test = train_test_split(X, y, test_size=0.3, random_state=0)\n",
    "\n",
    "X_train2 = scaleContinuous(X_train)\n",
    "X_test2 = scaleContinuous(X_test)\n",
    "\n",
    "classifiers = {\n",
    "    'Logit': LogisticRegression(),\n",
    "#     'SVM - RBF': SVC(kernel=\"rbf\", C=1, gamma = .001),\n",
    "#     'SVM - Linear': SVC(kernel='linear', C=1),\n",
    "    'Neural Net': MLPClassifier(alpha=1, max_iter = 1000, learning_rate_init=.01),\n",
    "    'KNN': KNN(n_neighbors=5),\n",
    "    'Gradient Boosted': GradientBoostingClassifier(n_estimators=100, learning_rate=1.0,\n",
    "                                    max_depth=1, random_state=0)\n",
    "}\n",
    "\n",
    "for key, model in classifiers.items():\n",
    "    model.fit(X_train2, y_train)\n",
    "    y_pred = model.predict(X_test2)\n",
    "    model.fit(X_train, y_train)\n",
    "    y_pred2 = model.predict(X_test)\n",
    "    scores = cross_val_score(model, X_train2, y_train, scoring='recall', cv=10)\n",
    "    print(key)\n",
    "    print('CV Recall: {}'.format(scores.mean()))\n",
    "    print(metrics.confusion_matrix(y_test, y_pred))\n",
    "    print('Scaled Accuracy: {}'.format(metrics.accuracy_score(y_test, y_pred)))\n",
    "    print('Unscaled Accuracy: {}'.format(metrics.accuracy_score(y_test, y_pred2)))\n",
    "    print('\\n')\n",
    "\n",
    "t1 = time.time()\n",
    "print(t1-t0)"
   ]
  },
  {
   "cell_type": "code",
   "execution_count": 29,
   "metadata": {},
   "outputs": [
    {
     "data": {
      "image/png": "[encoded data removed]",
      "text/plain": [
       "<matplotlib.figure.Figure at 0xe45c128>"
      ]
     },
     "metadata": {},
     "output_type": "display_data"
    }
   ],
   "source": [
    "from sklearn.model_selection import learning_curve\n",
    "\n",
    "model = LogisticRegression()\n",
    "def plot_learning_curve(estimator, title, X, y, ylim=None, cv=None,\n",
    "                        n_jobs=1, train_sizes=np.linspace(.1, 1.0, 5)):\n",
    "    \"\"\"\n",
    "    Generate a simple plot of the test and training learning curve.\n",
    "\n",
    "    Parameters\n",
    "    ----------\n",
    "    estimator : object type that implements the \"fit\" and \"predict\" methods\n",
    "        An object of that type which is cloned for each validation.\n",
    "\n",
    "    title : string\n",
    "        Title for the chart.\n",
    "\n",
    "    X : array-like, shape (n_samples, n_features)\n",
    "        Training vector, where n_samples is the number of samples and\n",
    "        n_features is the number of features.\n",
    "\n",
    "    y : array-like, shape (n_samples) or (n_samples, n_features), optional\n",
    "        Target relative to X for classification or regression;\n",
    "        None for unsupervised learning.\n",
    "\n",
    "    ylim : tuple, shape (ymin, ymax), optional\n",
    "        Defines minimum and maximum yvalues plotted.\n",
    "\n",
    "    cv : int, cross-validation generator or an iterable, optional\n",
    "        Determines the cross-validation splitting strategy.\n",
    "        Possible inputs for cv are:\n",
    "          - None, to use the default 3-fold cross-validation,\n",
    "          - integer, to specify the number of folds.\n",
    "          - An object to be used as a cross-validation generator.\n",
    "          - An iterable yielding train/test splits.\n",
    "\n",
    "        For integer/None inputs, if ``y`` is binary or multiclass,\n",
    "        :class:`StratifiedKFold` used. If the estimator is not a classifier\n",
    "        or if ``y`` is neither binary nor multiclass, :class:`KFold` is used.\n",
    "\n",
    "        Refer :ref:`User Guide <cross_validation>` for the various\n",
    "        cross-validators that can be used here.\n",
    "\n",
    "    n_jobs : integer, optional\n",
    "        Number of jobs to run in parallel (default 1).\n",
    "    \"\"\"\n",
    "    plt.figure()\n",
    "    plt.title(title)\n",
    "    if ylim is not None:\n",
    "        plt.ylim(*ylim)\n",
    "    plt.xlabel(\"Training examples\")\n",
    "    plt.ylabel(\"Score\")\n",
    "    train_sizes, train_scores, test_scores = learning_curve(\n",
    "        estimator, X, y, cv=cv, n_jobs=n_jobs, train_sizes=train_sizes)\n",
    "    train_scores_mean = np.mean(train_scores, axis=1)\n",
    "    train_scores_std = np.std(train_scores, axis=1)\n",
    "    test_scores_mean = np.mean(test_scores, axis=1)\n",
    "    test_scores_std = np.std(test_scores, axis=1)\n",
    "    plt.grid()\n",
    "\n",
    "    plt.fill_between(train_sizes, train_scores_mean - train_scores_std,\n",
    "                     train_scores_mean + train_scores_std, alpha=0.1,\n",
    "                     color=\"r\")\n",
    "    plt.fill_between(train_sizes, test_scores_mean - test_scores_std,\n",
    "                     test_scores_mean + test_scores_std, alpha=0.1, color=\"g\")\n",
    "    plt.plot(train_sizes, train_scores_mean, 'o-', color=\"r\",\n",
    "             label=\"Training score\")\n",
    "    plt.plot(train_sizes, test_scores_mean, 'o-', color=\"g\",\n",
    "             label=\"Cross-validation score\")\n",
    "\n",
    "    plt.legend(loc=\"best\")\n",
    "    return plt\n",
    "\n",
    "classifiers = {\n",
    "#     'Logit': LogisticRegression(),\n",
    "#     'SVM - RBF': SVC(kernel=\"rbf\", C=1, gamma = .001),\n",
    "#     'SVM - Linear': SVC(kernel='linear', C=1),\n",
    "#     'Neural Net': MLPClassifier(alpha=1, max_iter = 1000, learning_rate_init=.01),\n",
    "    'KNN': KNN(n_neighbors=10),\n",
    "#     'Gradient Boosted': GradientBoostingClassifier(n_estimators=100, learning_rate=1.0,\n",
    "#                                     max_depth=1, random_state=0)\n",
    "}\n",
    "\n",
    "for key, model in classifiers.items():\n",
    "    plot_learning_curve(model, key, X_train2, y_train, cv=10,\n",
    "    train_sizes=np.linspace(.01,1.0, 10))\n",
    "    plt.show()"
   ]
  },
  {
   "cell_type": "code",
   "execution_count": 42,
   "metadata": {},
   "outputs": [
    {
     "name": "stderr",
     "output_type": "stream",
     "text": [
      "C:\\ProgramData\\Anaconda3\\lib\\site-packages\\sklearn\\neural_network\\multilayer_perceptron.py:564: ConvergenceWarning: Stochastic Optimizer: Maximum iterations (1) reached and the optimization hasn't converged yet.\n",
      "  % self.max_iter, ConvergenceWarning)\n",
      "C:\\ProgramData\\Anaconda3\\lib\\site-packages\\sklearn\\neural_network\\multilayer_perceptron.py:564: ConvergenceWarning: Stochastic Optimizer: Maximum iterations (2) reached and the optimization hasn't converged yet.\n",
      "  % self.max_iter, ConvergenceWarning)\n"
     ]
    },
    {
     "name": "stdout",
     "output_type": "stream",
     "text": [
      "1 Iterations\n",
      "1\n",
      "[[3436   40]\n",
      " [ 660  107]]\n",
      "Test Accuracy: 0.8350223898185246\n",
      "Train Accuracy: 0.8278614001414284\n",
      "\n",
      "\n",
      "2 Iterations\n",
      "2\n",
      "[[3397   79]\n",
      " [ 590  177]]\n",
      "Test Accuracy: 0.8423285411265614\n",
      "Train Accuracy: 0.8432164865137892\n",
      "\n",
      "\n"
     ]
    },
    {
     "name": "stderr",
     "output_type": "stream",
     "text": [
      "C:\\ProgramData\\Anaconda3\\lib\\site-packages\\sklearn\\neural_network\\multilayer_perceptron.py:564: ConvergenceWarning: Stochastic Optimizer: Maximum iterations (3) reached and the optimization hasn't converged yet.\n",
      "  % self.max_iter, ConvergenceWarning)\n",
      "C:\\ProgramData\\Anaconda3\\lib\\site-packages\\sklearn\\neural_network\\multilayer_perceptron.py:564: ConvergenceWarning: Stochastic Optimizer: Maximum iterations (4) reached and the optimization hasn't converged yet.\n",
      "  % self.max_iter, ConvergenceWarning)\n"
     ]
    },
    {
     "name": "stdout",
     "output_type": "stream",
     "text": [
      "3 Iterations\n",
      "3\n",
      "[[3365  111]\n",
      " [ 524  243]]\n",
      "Test Accuracy: 0.8503417393353759\n",
      "Train Accuracy: 0.8488736235983433\n",
      "\n",
      "\n",
      "4 Iterations\n",
      "4\n",
      "[[3356  120]\n",
      " [ 497  270]]\n",
      "Test Accuracy: 0.8545840207400425\n",
      "Train Accuracy: 0.8528134154965148\n",
      "\n",
      "\n"
     ]
    },
    {
     "name": "stderr",
     "output_type": "stream",
     "text": [
      "C:\\ProgramData\\Anaconda3\\lib\\site-packages\\sklearn\\neural_network\\multilayer_perceptron.py:564: ConvergenceWarning: Stochastic Optimizer: Maximum iterations (5) reached and the optimization hasn't converged yet.\n",
      "  % self.max_iter, ConvergenceWarning)\n"
     ]
    },
    {
     "name": "stdout",
     "output_type": "stream",
     "text": [
      "5 Iterations\n",
      "5\n",
      "[[3371  105]\n",
      " [ 482  285]]\n",
      "Test Accuracy: 0.8616544897478199\n",
      "Train Accuracy: 0.8541266794625719\n",
      "\n",
      "\n"
     ]
    },
    {
     "name": "stderr",
     "output_type": "stream",
     "text": [
      "C:\\ProgramData\\Anaconda3\\lib\\site-packages\\sklearn\\neural_network\\multilayer_perceptron.py:564: ConvergenceWarning: Stochastic Optimizer: Maximum iterations (6) reached and the optimization hasn't converged yet.\n",
      "  % self.max_iter, ConvergenceWarning)\n"
     ]
    },
    {
     "name": "stdout",
     "output_type": "stream",
     "text": [
      "6 Iterations\n",
      "6\n",
      "[[3345  131]\n",
      " [ 459  308]]\n",
      "Test Accuracy: 0.8609474428470422\n",
      "Train Accuracy: 0.8580664713607435\n",
      "\n",
      "\n"
     ]
    },
    {
     "name": "stderr",
     "output_type": "stream",
     "text": [
      "C:\\ProgramData\\Anaconda3\\lib\\site-packages\\sklearn\\neural_network\\multilayer_perceptron.py:564: ConvergenceWarning: Stochastic Optimizer: Maximum iterations (7) reached and the optimization hasn't converged yet.\n",
      "  % self.max_iter, ConvergenceWarning)\n"
     ]
    },
    {
     "name": "stdout",
     "output_type": "stream",
     "text": [
      "7 Iterations\n",
      "7\n",
      "[[3343  133]\n",
      " [ 461  306]]\n",
      "Test Accuracy: 0.8600047136460052\n",
      "Train Accuracy: 0.8580664713607435\n",
      "\n",
      "\n"
     ]
    },
    {
     "name": "stderr",
     "output_type": "stream",
     "text": [
      "C:\\ProgramData\\Anaconda3\\lib\\site-packages\\sklearn\\neural_network\\multilayer_perceptron.py:564: ConvergenceWarning: Stochastic Optimizer: Maximum iterations (8) reached and the optimization hasn't converged yet.\n",
      "  % self.max_iter, ConvergenceWarning)\n"
     ]
    },
    {
     "name": "stdout",
     "output_type": "stream",
     "text": [
      "8 Iterations\n",
      "8\n",
      "[[3337  139]\n",
      " [ 449  318]]\n",
      "Test Accuracy: 0.8614188074475607\n",
      "Train Accuracy: 0.8607940195979392\n",
      "\n",
      "\n"
     ]
    },
    {
     "name": "stderr",
     "output_type": "stream",
     "text": [
      "C:\\ProgramData\\Anaconda3\\lib\\site-packages\\sklearn\\neural_network\\multilayer_perceptron.py:564: ConvergenceWarning: Stochastic Optimizer: Maximum iterations (9) reached and the optimization hasn't converged yet.\n",
      "  % self.max_iter, ConvergenceWarning)\n"
     ]
    },
    {
     "name": "stdout",
     "output_type": "stream",
     "text": [
      "9 Iterations\n",
      "9\n",
      "[[3330  146]\n",
      " [ 432  335]]\n",
      "Test Accuracy: 0.8637756304501532\n",
      "Train Accuracy: 0.8663501363774119\n",
      "\n",
      "\n"
     ]
    },
    {
     "name": "stderr",
     "output_type": "stream",
     "text": [
      "C:\\ProgramData\\Anaconda3\\lib\\site-packages\\sklearn\\neural_network\\multilayer_perceptron.py:564: ConvergenceWarning: Stochastic Optimizer: Maximum iterations (10) reached and the optimization hasn't converged yet.\n",
      "  % self.max_iter, ConvergenceWarning)\n"
     ]
    },
    {
     "name": "stdout",
     "output_type": "stream",
     "text": [
      "10 Iterations\n",
      "10\n",
      "[[3339  137]\n",
      " [ 438  329]]\n",
      "Test Accuracy: 0.864482677350931\n",
      "Train Accuracy: 0.8616021820385897\n",
      "\n",
      "\n"
     ]
    },
    {
     "name": "stderr",
     "output_type": "stream",
     "text": [
      "C:\\ProgramData\\Anaconda3\\lib\\site-packages\\sklearn\\neural_network\\multilayer_perceptron.py:564: ConvergenceWarning: Stochastic Optimizer: Maximum iterations (11) reached and the optimization hasn't converged yet.\n",
      "  % self.max_iter, ConvergenceWarning)\n"
     ]
    },
    {
     "name": "stdout",
     "output_type": "stream",
     "text": [
      "11 Iterations\n",
      "11\n",
      "[[3332  144]\n",
      " [ 426  341]]\n",
      "Test Accuracy: 0.8656610888522271\n",
      "Train Accuracy: 0.8644307505808667\n",
      "\n",
      "\n"
     ]
    },
    {
     "name": "stderr",
     "output_type": "stream",
     "text": [
      "C:\\ProgramData\\Anaconda3\\lib\\site-packages\\sklearn\\neural_network\\multilayer_perceptron.py:564: ConvergenceWarning: Stochastic Optimizer: Maximum iterations (12) reached and the optimization hasn't converged yet.\n",
      "  % self.max_iter, ConvergenceWarning)\n"
     ]
    },
    {
     "name": "stdout",
     "output_type": "stream",
     "text": [
      "12 Iterations\n",
      "12\n",
      "[[3336  140]\n",
      " [ 423  344]]\n",
      "Test Accuracy: 0.867310864954042\n",
      "Train Accuracy: 0.8661480957672493\n",
      "\n",
      "\n"
     ]
    },
    {
     "name": "stderr",
     "output_type": "stream",
     "text": [
      "C:\\ProgramData\\Anaconda3\\lib\\site-packages\\sklearn\\neural_network\\multilayer_perceptron.py:564: ConvergenceWarning: Stochastic Optimizer: Maximum iterations (13) reached and the optimization hasn't converged yet.\n",
      "  % self.max_iter, ConvergenceWarning)\n"
     ]
    },
    {
     "name": "stdout",
     "output_type": "stream",
     "text": [
      "13 Iterations\n",
      "13\n",
      "[[3325  151]\n",
      " [ 420  347]]\n",
      "Test Accuracy: 0.865425406551968\n",
      "Train Accuracy: 0.8659460551570866\n",
      "\n",
      "\n"
     ]
    },
    {
     "name": "stderr",
     "output_type": "stream",
     "text": [
      "C:\\ProgramData\\Anaconda3\\lib\\site-packages\\sklearn\\neural_network\\multilayer_perceptron.py:564: ConvergenceWarning: Stochastic Optimizer: Maximum iterations (14) reached and the optimization hasn't converged yet.\n",
      "  % self.max_iter, ConvergenceWarning)\n"
     ]
    },
    {
     "name": "stdout",
     "output_type": "stream",
     "text": [
      "14 Iterations\n",
      "14\n",
      "[[3320  156]\n",
      " [ 402  365]]\n",
      "Test Accuracy: 0.8684892764553382\n",
      "Train Accuracy: 0.8693807455298515\n",
      "\n",
      "\n"
     ]
    },
    {
     "name": "stderr",
     "output_type": "stream",
     "text": [
      "C:\\ProgramData\\Anaconda3\\lib\\site-packages\\sklearn\\neural_network\\multilayer_perceptron.py:564: ConvergenceWarning: Stochastic Optimizer: Maximum iterations (15) reached and the optimization hasn't converged yet.\n",
      "  % self.max_iter, ConvergenceWarning)\n"
     ]
    },
    {
     "name": "stdout",
     "output_type": "stream",
     "text": [
      "15 Iterations\n",
      "15\n",
      "[[3324  152]\n",
      " [ 405  362]]\n",
      "Test Accuracy: 0.8687249587555974\n",
      "Train Accuracy: 0.8693807455298515\n",
      "\n",
      "\n"
     ]
    },
    {
     "name": "stderr",
     "output_type": "stream",
     "text": [
      "C:\\ProgramData\\Anaconda3\\lib\\site-packages\\sklearn\\neural_network\\multilayer_perceptron.py:564: ConvergenceWarning: Stochastic Optimizer: Maximum iterations (16) reached and the optimization hasn't converged yet.\n",
      "  % self.max_iter, ConvergenceWarning)\n"
     ]
    },
    {
     "name": "stdout",
     "output_type": "stream",
     "text": [
      "16 Iterations\n",
      "16\n",
      "[[3349  127]\n",
      " [ 426  341]]\n",
      "Test Accuracy: 0.8696676879566344\n",
      "Train Accuracy: 0.8670572785129811\n",
      "\n",
      "\n"
     ]
    },
    {
     "name": "stderr",
     "output_type": "stream",
     "text": [
      "C:\\ProgramData\\Anaconda3\\lib\\site-packages\\sklearn\\neural_network\\multilayer_perceptron.py:564: ConvergenceWarning: Stochastic Optimizer: Maximum iterations (17) reached and the optimization hasn't converged yet.\n",
      "  % self.max_iter, ConvergenceWarning)\n"
     ]
    },
    {
     "name": "stdout",
     "output_type": "stream",
     "text": [
      "17 Iterations\n",
      "17\n",
      "[[3321  155]\n",
      " [ 421  346]]\n",
      "Test Accuracy: 0.8642469950506717\n",
      "Train Accuracy: 0.8691787049196888\n",
      "\n",
      "\n"
     ]
    },
    {
     "name": "stderr",
     "output_type": "stream",
     "text": [
      "C:\\ProgramData\\Anaconda3\\lib\\site-packages\\sklearn\\neural_network\\multilayer_perceptron.py:564: ConvergenceWarning: Stochastic Optimizer: Maximum iterations (18) reached and the optimization hasn't converged yet.\n",
      "  % self.max_iter, ConvergenceWarning)\n"
     ]
    },
    {
     "name": "stdout",
     "output_type": "stream",
     "text": [
      "18 Iterations\n",
      "18\n",
      "[[3321  155]\n",
      " [ 411  356]]\n",
      "Test Accuracy: 0.8666038180532643\n",
      "Train Accuracy: 0.8714011516314779\n",
      "\n",
      "\n",
      "19 Iterations\n",
      "19\n",
      "[[3329  147]\n",
      " [ 415  352]]\n",
      "Test Accuracy: 0.8675465472543012\n",
      "Train Accuracy: 0.8711991110213153\n",
      "\n",
      "\n"
     ]
    },
    {
     "name": "stderr",
     "output_type": "stream",
     "text": [
      "C:\\ProgramData\\Anaconda3\\lib\\site-packages\\sklearn\\neural_network\\multilayer_perceptron.py:564: ConvergenceWarning: Stochastic Optimizer: Maximum iterations (19) reached and the optimization hasn't converged yet.\n",
      "  % self.max_iter, ConvergenceWarning)\n"
     ]
    }
   ],
   "source": [
    "for n in range(1, 20):\n",
    "#     model = GradientBoostingClassifier(n_estimators=n, learning_rate=1.0,\n",
    "#                                         max_depth=1, random_state=0)\n",
    "    model = MLPClassifier(alpha=1, solver='sgd',max_iter = n, learning_rate_init=.01)\n",
    "    model.fit(X_train2, y_train)\n",
    "    y_pred = model.predict(X_test2)\n",
    "    y_train_pred = model.predict(X_train2)\n",
    "#     scores = cross_val_score(model, X_train2, y_train, scoring='recall', cv=10)\n",
    "    print('{} Iterations'.format(n))\n",
    "#     print('CV Recall: {}'.format(scores.mean()))\n",
    "    print(model.n_iter_)\n",
    "    print(metrics.confusion_matrix(y_test, y_pred))\n",
    "    print('Test Accuracy: {}'.format(metrics.accuracy_score(y_test, y_pred)))\n",
    "    print('Train Accuracy: {}'.format(metrics.accuracy_score(y_train, y_train_pred)))\n",
    "    print('\\n')"
   ]
  }
 ],
 "metadata": {
  "kernelspec": {
   "display_name": "Python 3",
   "language": "python",
   "name": "python3"
  },
  "language_info": {
   "codemirror_mode": {
    "name": "ipython",
    "version": 3
   },
   "file_extension": ".py",
   "mimetype": "text/x-python",
   "name": "python",
   "nbconvert_exporter": "python",
   "pygments_lexer": "ipython3",
   "version": "3.6.3"
  }
 },
 "nbformat": 4,
 "nbformat_minor": 2
}
