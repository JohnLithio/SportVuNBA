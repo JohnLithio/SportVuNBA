{
 "cells": [
  {
   "cell_type": "code",
   "execution_count": 1,
   "metadata": {},
   "outputs": [],
   "source": [
    "import matplotlib.pyplot as plt\n",
    "import numpy as np\n",
    "import pandas as pd\n",
    "import os\n",
    "import re\n",
    "import sys\n",
    "\n",
    "plt.style.use('seaborn')\n",
    "%matplotlib inline\n",
    "\n",
    "# Load snapshot data\n",
    "os.chdir(\"..\")\n",
    "df = pd.read_csv(r'Snapshot CSVs/All_Snapshots.csv')\n",
    "os.chdir('Notebooks')"
   ]
  },
  {
   "cell_type": "raw",
   "metadata": {},
   "source": [
    "For each event, calculate distances of each player from the ball when it crosses 9 ft and order them closest to farthest, with offense having spots 1-5 and defense 6-10."
   ]
  },
  {
   "cell_type": "code",
   "execution_count": 9,
   "metadata": {},
   "outputs": [],
   "source": [
    "def playerDistToBall(px, py, bx, by):\n",
    "    return ((px - bx)**2 + (py - by)**2)**.5\n",
    "\n",
    "def closerRim(row):\n",
    "    if row['BALL_DIST_RIM1_FALL'] < row['BALL_DIST_RIM2_FALL']:\n",
    "        return '1'\n",
    "    else:\n",
    "        return '2'\n",
    "        \n",
    "def rimDistDF(row, suf):\n",
    "    outcols = ['Off_Dist1', 'Off_Dist2', 'Off_Dist3', 'Off_Dist4', 'Off_Dist5',\n",
    "               'Def_Dist1', 'Def_Dist2', 'Def_Dist3', 'Def_Dist4', 'Def_Dist5', \n",
    "               'BALL_DIST', 'Off_Reb']\n",
    "        \n",
    "    off_cols = [x for x in outcols if x[:-1] == 'Off_Dist']\n",
    "    def_cols = [x for x in outcols if x[:-1] == 'Def_Dist']\n",
    "    \n",
    "    rim = closerRim(row)\n",
    "    \n",
    "    row['Off_Reb'] = row['OFFENSIVE_REB' + suf]\n",
    "    \n",
    "    for i in range(0,5):\n",
    "        row[off_cols[i]] = row['PLAYER'+str(i+1)+'_DIST_RIM'+rim+suf]\n",
    "        row[def_cols[i]] = row['PLAYER'+str(i+6)+'_DIST_RIM'+rim+suf]\n",
    "    row['BALL_DIST'] = row['BALL_DIST_RIM'+rim+suf]\n",
    "    \n",
    "    return row\n",
    "    \n",
    "\n",
    "def buildFallDF(df, suf = '_FALL'):\n",
    "    outcols = ['Off_Dist1', 'Off_Dist2', 'Off_Dist3', 'Off_Dist4', 'Off_Dist5',\n",
    "               'Def_Dist1', 'Def_Dist2', 'Def_Dist3', 'Def_Dist4', 'Def_Dist5', \n",
    "               'Off_Reb']\n",
    "        \n",
    "    off_cols = [x for x in outcols if x[:-1] == 'Off_Dist']\n",
    "    def_cols = [x for x in outcols if x[:-1] == 'Def_Dist']\n",
    "    \n",
    "    outdf = pd.DataFrame(columns = outcols)\n",
    "    outdf['Off_Reb'] = df['OFFENSIVE_REB' + suf]\n",
    "    \n",
    "    for i in range(0,5):\n",
    "        outdf[off_cols[i]] = playerDistToBall(df['PLAYER'+str(i+1)+'_XLOC'+suf],\n",
    "                                                     df['PLAYER'+str(i+1)+'_YLOC'+suf],\n",
    "                                                     df['BALL_XLOC'+suf],\n",
    "                                                     df['BALL_YLOC'+suf])\n",
    "        outdf[def_cols[i]] = playerDistToBall(df['PLAYER'+str(i+6)+'_XLOC'+suf],\n",
    "                                                     df['PLAYER'+str(i+6)+'_YLOC'+suf],\n",
    "                                                     df['BALL_XLOC'+suf],\n",
    "                                                     df['BALL_YLOC'+suf])\n",
    "#     else:\n",
    "#         for i in range(0,5):\n",
    "#             outdf[off_cols[i]] = df['PLAYER'+str(i+1)+'_DIST_RIM'+df['CLOSER_RIM']+suf]\n",
    "#             outdf[def_cols[i]] = df['PLAYER'+str(i+6)+'_DIST_RIM'+df['CLOSER_RIM']+suf]\n",
    "#         outdf['BALL_DIST'] = df['BALL_DIST_RIM'+df['CLOSER_RIM']]\n",
    "    \n",
    "    ovals = outdf[off_cols].values\n",
    "    dvals = outdf[def_cols].values\n",
    "    ovals.sort(axis=1)\n",
    "    dvals.sort(axis=1)\n",
    "    outdf[off_cols] = ovals\n",
    "    outdf[def_cols] = dvals\n",
    "    \n",
    "    return outdf\n",
    "\n",
    "outcols = ['Off_Dist1', 'Off_Dist2', 'Off_Dist3', 'Off_Dist4', 'Off_Dist5',\n",
    "               'Def_Dist1', 'Def_Dist2', 'Def_Dist3', 'Def_Dist4', 'Def_Dist5', \n",
    "               'BALL_DIST', 'Off_Reb']\n",
    "\n",
    "outdf = buildFallDF(df)\n",
    "df = df.apply(lambda x: rimDistDF(x, '_UP'), axis = 1)\n",
    "updf = df[outcols]"
   ]
  },
  {
   "cell_type": "code",
   "execution_count": 19,
   "metadata": {},
   "outputs": [
    {
     "name": "stdout",
     "output_type": "stream",
     "text": [
      "0.823665751754\n",
      "0.0760042667388916\n"
     ]
    }
   ],
   "source": [
    "import time\n",
    "from sklearn.linear_model import LogisticRegression\n",
    "from sklearn.svm import SVC\n",
    "from sklearn.neighbors import KNeighborsClassifier as KNN\n",
    "from sklearn.ensemble import GradientBoostingClassifier\n",
    "from sklearn.neural_network import MLPClassifier\n",
    "from sklearn.cross_validation import train_test_split\n",
    "from sklearn import metrics\n",
    "from sklearn.cross_validation import cross_val_score\n",
    "\n",
    "X = updf.drop('Off_Reb', axis = 1)\n",
    "y = updf['Off_Reb']\n",
    "t0 = time.time()\n",
    "# No data split\n",
    "model = MLPClassifier(solver='lbfgs', alpha=1e-5, \n",
    "                      hidden_layer_sizes=(5, 2), random_state=1)\n",
    "model = model.fit(X, y)\n",
    "print(model.score(X, y))\n",
    "t1 = time.time()\n",
    "print (t1 - t0)"
   ]
  },
  {
   "cell_type": "code",
   "execution_count": 4,
   "metadata": {},
   "outputs": [],
   "source": [
    "# pd.DataFrame(list(zip(X.columns, [x[0] for x in np.transpose(model.coef_)])))"
   ]
  },
  {
   "cell_type": "code",
   "execution_count": 25,
   "metadata": {},
   "outputs": [
    {
     "name": "stdout",
     "output_type": "stream",
     "text": [
      "[[4037   23]\n",
      " [ 846   13]]\n"
     ]
    }
   ],
   "source": [
    "# Train/test split\n",
    "X_train, X_test, y_train, y_test = train_test_split(X, y, test_size=0.3, random_state=0)\n",
    "model2 = GradientBoostingClassifier(n_estimators=100, learning_rate=1.0,\n",
    "                                    max_depth=1, random_state=0)\n",
    "model2.fit(X_train, y_train)\n",
    "predicted = model2.predict(X_test)\n",
    "print(metrics.confusion_matrix(y_test, predicted))"
   ]
  },
  {
   "cell_type": "code",
   "execution_count": 20,
   "metadata": {},
   "outputs": [
    {
     "name": "stdout",
     "output_type": "stream",
     "text": [
      "0.823665778008\n",
      "0.5600321292877197\n"
     ]
    }
   ],
   "source": [
    "# Cross-validation\n",
    "t0 = time.time()\n",
    "scores = cross_val_score(MLPClassifier(solver='lbfgs', alpha=1e-5, \n",
    "                      hidden_layer_sizes=(5, 2), random_state=1), X, y, scoring='accuracy', cv=10)\n",
    "print(scores.mean())\n",
    "t1 = time.time()\n",
    "print(t1 - t0)"
   ]
  },
  {
   "cell_type": "raw",
   "metadata": {},
   "source": [
    "The following code visualizes a snapshot given a GAME_ID and EVENT_NUM"
   ]
  },
  {
   "cell_type": "code",
   "execution_count": 7,
   "metadata": {},
   "outputs": [
    {
     "data": {
      "image/png": "[encoded data removed]",
      "text/plain": [
       "<matplotlib.figure.Figure at 0xb030ef0>"
      ]
     },
     "metadata": {},
     "output_type": "display_data"
    }
   ],
   "source": [
    "def plotPlay(df, i, suf):\n",
    "    court = plt.imread(\"fullcourt.png\")\n",
    "    plt.imshow(court, zorder = 0, extent=[0,94,50,0])\n",
    "    row = df.iloc[i]\n",
    "    plt.scatter(row['PLAYER1_XLOC'+suf], row['PLAYER1_YLOC'+suf], c = 'blue')\n",
    "    plt.scatter(row['PLAYER2_XLOC'+suf], row['PLAYER2_YLOC'+suf], c = 'blue')\n",
    "    plt.scatter(row['PLAYER3_XLOC'+suf], row['PLAYER3_YLOC'+suf], c = 'blue')\n",
    "    plt.scatter(row['PLAYER4_XLOC'+suf], row['PLAYER4_YLOC'+suf], c = 'blue')\n",
    "    plt.scatter(row['PLAYER5_XLOC'+suf], row['PLAYER5_YLOC'+suf], c = 'blue')\n",
    "\n",
    "    plt.scatter(row['PLAYER6_XLOC'+suf], row['PLAYER6_YLOC'+suf], c = 'red')\n",
    "    plt.scatter(row['PLAYER7_XLOC'+suf], row['PLAYER7_YLOC'+suf], c = 'red')\n",
    "    plt.scatter(row['PLAYER8_XLOC'+suf], row['PLAYER8_YLOC'+suf], c = 'red')\n",
    "    plt.scatter(row['PLAYER9_XLOC'+suf], row['PLAYER9_YLOC'+suf], c = 'red')\n",
    "    plt.scatter(row['PLAYER10_XLOC'+suf], row['PLAYER10_YLOC'+suf], c = 'red')\n",
    "\n",
    "    plt.scatter(row['BALL_XLOC_UP'], row['BALL_YLOC_UP'], c = 'green')\n",
    "#     plt.scatter(row['BALL_XLOC_PEAK'], row['BALL_YLOC_PEAK'], c = 'green')\n",
    "    plt.scatter(row['BALL_XLOC_FALL'], row['BALL_YLOC_FALL'], c = 'green')\n",
    "    \n",
    "    if row['OFFENSIVE_REB_FALL'] == 1:\n",
    "        txt = 'OFF'\n",
    "        col = 'blue'\n",
    "    else:\n",
    "        txt = 'DEF'\n",
    "        col = 'red'\n",
    "    plt.text(47, 7, txt, fontsize=20, horizontalalignment='center',\n",
    "             bbox=dict(facecolor=col, alpha=0.2))\n",
    "    \n",
    "n = 115\n",
    "plotPlay(df, n, '_FALL')"
   ]
  },
  {
   "cell_type": "code",
   "execution_count": 39,
   "metadata": {},
   "outputs": [
    {
     "name": "stdout",
     "output_type": "stream",
     "text": [
      "0.862980280545\n",
      "[[3888  172]\n",
      " [ 502  357]]\n"
     ]
    }
   ],
   "source": [
    "from imblearn.over_sampling import RandomOverSampler\n",
    "\n",
    "X = outdf.drop('Off_Reb', axis = 1)\n",
    "y = outdf['Off_Reb']\n",
    "\n",
    "ros = RandomOverSampler(random_state=0)\n",
    "X_resampled, y_resampled = ros.fit_sample(X, y)\n",
    "\n",
    "# Train/test split\n",
    "X_train, X_test, y_train, y_test = train_test_split(X, y,\n",
    "                                                    test_size=0.3, random_state=0)\n",
    "model2 = GradientBoostingClassifier(n_estimators=100, learning_rate=1.0,\n",
    "                                    max_depth=1, random_state=0)\n",
    "model2.fit(X_train, y_train)\n",
    "predicted = model2.predict(X_test)\n",
    "print(model2.score(X_test, y_test))\n",
    "print(metrics.confusion_matrix(y_test, predicted))"
   ]
  },
  {
   "cell_type": "code",
   "execution_count": 32,
   "metadata": {},
   "outputs": [
    {
     "name": "stdout",
     "output_type": "stream",
     "text": [
      "0.599900211092\n",
      "8.290473937988281\n"
     ]
    }
   ],
   "source": [
    "# Cross-validation\n",
    "t0 = time.time()\n",
    "scores = cross_val_score(GradientBoostingClassifier(n_estimators=100,\n",
    "                                                    learning_rate=1.0,\n",
    "                                                    max_depth=1,\n",
    "                                                    random_state=0),\n",
    "                         X_resampled, y_resampled, scoring='accuracy', cv=10)\n",
    "print(scores.mean())\n",
    "t1 = time.time()\n",
    "print(t1 - t0)"
   ]
  }
 ],
 "metadata": {
  "kernelspec": {
   "display_name": "Python 3",
   "language": "python",
   "name": "python3"
  },
  "language_info": {
   "codemirror_mode": {
    "name": "ipython",
    "version": 3
   },
   "file_extension": ".py",
   "mimetype": "text/x-python",
   "name": "python",
   "nbconvert_exporter": "python",
   "pygments_lexer": "ipython3",
   "version": "3.6.3"
  }
 },
 "nbformat": 4,
 "nbformat_minor": 2
}
