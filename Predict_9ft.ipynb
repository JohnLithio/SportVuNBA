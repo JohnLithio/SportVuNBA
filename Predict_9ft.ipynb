{
 "cells": [
  {
   "cell_type": "code",
   "execution_count": 1,
   "metadata": {},
   "outputs": [],
   "source": [
    "import matplotlib.pyplot as plt\n",
    "import numpy as np\n",
    "import pandas as pd\n",
    "import os\n",
    "import re\n",
    "import sys\n",
    "\n",
    "plt.style.use('seaborn')\n",
    "%matplotlib inline\n",
    "\n",
    "# Load snapshot data\n",
    "# df = pd.read_csv(r'Snapshot CSVs/All_Snapshots.csv')"
   ]
  },
  {
   "cell_type": "code",
   "execution_count": 103,
   "metadata": {},
   "outputs": [],
   "source": [
    "up_df = pd.read_csv(r'Snapshot CSVs/Up_Snapshot.csv')\n",
    "peak_df = pd.read_csv(r'Snapshot CSVs/Peak_Snapshot.csv')\n",
    "rim_df = pd.read_csv(r'Snapshot CSVs/Rim_Snapshot.csv')\n",
    "fall_df = pd.read_csv(r'Snapshot CSVs/Fall_Snapshot.csv')\n",
    "\n",
    "def dropAllDuplicates(df):\n",
    "    duplicates = df.drop(['EVENT_NUM', 'SHOOTER_ID', 'SHOT_DISTANCE', 'SHOT_TIME',\n",
    "                          'OFFENSIVE_REB', 'EVENT_TIME'], axis=1).duplicated(keep=False)\n",
    "    return df[~duplicates]\n",
    "\n",
    "up_df = dropAllDuplicates(up_df)\n",
    "peak_df = dropAllDuplicates(peak_df)\n",
    "rim_df = dropAllDuplicates(rim_df)\n",
    "fall_df = dropAllDuplicates(fall_df)"
   ]
  },
  {
   "cell_type": "code",
   "execution_count": 104,
   "metadata": {},
   "outputs": [],
   "source": [
    "def flipCourt(df):\n",
    "    xlocs = [col for col in df.columns if 'XLOC' in col]\n",
    "    ylocs = [col for col in df.columns if 'YLOC' in col]\n",
    "    \n",
    "    for i in range(0, len(xlocs)):\n",
    "        df[xlocs[i]] = np.where(rim_df['BALL_XLOC'] > 47,\n",
    "                                94 - df[xlocs[i]],\n",
    "                                df[xlocs[i]])\n",
    "        df[ylocs[i]] = np.where(rim_df['BALL_XLOC'] > 47,\n",
    "                                50 - df[ylocs[i]],\n",
    "                                df[ylocs[i]])\n",
    "    return df\n",
    "\n",
    "up_df = flipCourt(up_df)\n",
    "peak_df = flipCourt(peak_df)\n",
    "rim_df = flipCourt(rim_df)\n",
    "fall_df = flipCourt(fall_df)"
   ]
  },
  {
   "cell_type": "code",
   "execution_count": 105,
   "metadata": {},
   "outputs": [],
   "source": [
    "# Remove non-shots. These are plays that descend to 11 feet farther than 5 feet away\n",
    "goodrows = ((rim_df['BALL_DIST_RIM1'] < 5) | (rim_df['BALL_DIST_RIM2'] < 5))\n",
    "\n",
    "up_df = up_df[goodrows]\n",
    "peak_df = peak_df[goodrows]\n",
    "rim_df = rim_df[goodrows]\n",
    "fall_df = fall_df[goodrows]\n",
    "\n",
    "# Shots outside of 30 feet\n",
    "badrows = (up_df['BALL_XLOC'] > 35.25)\n",
    "\n",
    "up_df = up_df[~badrows]\n",
    "peak_df = peak_df[~badrows]\n",
    "rim_df = rim_df[~badrows]\n",
    "fall_df = fall_df[~badrows]"
   ]
  },
  {
   "cell_type": "raw",
   "metadata": {},
   "source": [
    "Determine if anyone is between:\n",
    "1) Player and the ball\n",
    "2) Player and the rim"
   ]
  },
  {
   "cell_type": "code",
   "execution_count": 2,
   "metadata": {},
   "outputs": [],
   "source": [
    "def playerDistToBall(px, py, bx, by):\n",
    "    return ((px - bx)**2 + (py - by)**2)**.5\n",
    "\n",
    "def closerRim(row):\n",
    "    if row['BALL_DIST_RIM1_FALL'] < row['BALL_DIST_RIM2_FALL']:\n",
    "        return '1'\n",
    "    else:\n",
    "        return '2'\n",
    "    \n",
    "df['rim'] = df.apply(closerRim, axis=1)"
   ]
  },
  {
   "cell_type": "raw",
   "metadata": {},
   "source": [
    "Shouldn't be able to box each other out. Calculations are wrong somewhere."
   ]
  },
  {
   "cell_type": "code",
   "execution_count": 13,
   "metadata": {},
   "outputs": [],
   "source": [
    "def newOrigin(x, y, ox, oy):\n",
    "    x = x - ox\n",
    "    y = y - oy\n",
    "    return (x,y)\n",
    "\n",
    "def rotateXY(x, y, theta):\n",
    "    xnew = x*np.cos(theta) + y*np.sin(theta)\n",
    "    ynew = -x*np.sin(theta) + y*np.cos(theta)\n",
    "    return (xnew, ynew)\n",
    "\n",
    "def boxedOut(player, team, row, suf, origin):\n",
    "    if origin == 'ball':\n",
    "        ox = row['BALL_XLOC'+suf]\n",
    "        oy = row['BALL_YLOC'+suf]\n",
    "        \n",
    "    elif origin == 'rim':\n",
    "        oy = 25\n",
    "        if row['rim'] == '1':\n",
    "            ox = 5.25\n",
    "        elif row['rim'] == '2':\n",
    "            ox = 88.75\n",
    "        \n",
    "    p = [row[player[0]], row[player[1]]]\n",
    "    p[0], p[1] = newOrigin(p[0], p[1], ox = ox, oy = oy)\n",
    "    \n",
    "    theta = np.arctan2(p[1], p[0])\n",
    "    p[0], p[1] = rotateXY(p[0], p[1], theta)\n",
    "    \n",
    "    p2 = [None, None]\n",
    "    for t in team:\n",
    "        p2[0], p2[1] = newOrigin(row[t[0]], row[t[1]], ox = ox, oy = oy)\n",
    "        p2[0], p2[1] = rotateXY(p2[0], p2[1], theta)\n",
    "        if (((0 < (p[0] - p2[0]) < np.fabs(p[0])) or\n",
    "            (0 < (p2[0] - p[0]) < np.fabs(p[0]))) and\n",
    "            (np.fabs(p2[0]/2) > np.fabs(p2[1])) and\n",
    "            (np.fabs(p2[1]) < 2)):\n",
    "            return (1, p2[0], p2[1], t[0][:8])\n",
    "    return (0, 0, 0, '')\n",
    "    \n",
    "\n",
    "def determineAllBoxOuts(row, suf, origin = 'rim'):\n",
    "    players = [['PLAYER1_XLOC'+suf, 'PLAYER1_YLOC'+suf],\n",
    "               ['PLAYER2_XLOC'+suf, 'PLAYER2_YLOC'+suf],\n",
    "               ['PLAYER3_XLOC'+suf, 'PLAYER3_YLOC'+suf],\n",
    "               ['PLAYER4_XLOC'+suf, 'PLAYER4_YLOC'+suf],\n",
    "               ['PLAYER5_XLOC'+suf, 'PLAYER5_YLOC'+suf],\n",
    "               ['PLAYER6_XLOC'+suf, 'PLAYER6_YLOC'+suf],\n",
    "               ['PLAYER7_XLOC'+suf, 'PLAYER7_YLOC'+suf],\n",
    "               ['PLAYER8_XLOC'+suf, 'PLAYER8_YLOC'+suf],\n",
    "               ['PLAYER9_XLOC'+suf, 'PLAYER9_YLOC'+suf],\n",
    "               ['PLAYER10_XLOC'+suf, 'PLAYER10_YLOC'+suf]\n",
    "               ]\n",
    "    for i in range(0,10):\n",
    "        team = list(players)\n",
    "        player = team.pop(i)\n",
    "        row['BOXED_OUT'+str(i+1)+suf], row['BOXED_OUT'+str(i+1)+'x'+suf], row['BOXED_OUT'+str(i+1)+'y'+suf], row['BOXED_OUT'+str(i+1)+'BY'+suf] = boxedOut(player, team, row, suf, origin=origin)\n",
    "        \n",
    "    return row\n",
    "\n",
    "suf = '_FALL'\n",
    "origin = 'ball'\n",
    "needed_cols = ['PLAYER1_XLOC'+suf, 'PLAYER1_YLOC'+suf,\n",
    "               'PLAYER2_XLOC'+suf, 'PLAYER2_YLOC'+suf,\n",
    "               'PLAYER3_XLOC'+suf, 'PLAYER3_YLOC'+suf,\n",
    "               'PLAYER4_XLOC'+suf, 'PLAYER4_YLOC'+suf,\n",
    "               'PLAYER5_XLOC'+suf, 'PLAYER5_YLOC'+suf,\n",
    "               'PLAYER6_XLOC'+suf, 'PLAYER6_YLOC'+suf,\n",
    "               'PLAYER7_XLOC'+suf, 'PLAYER7_YLOC'+suf,\n",
    "               'PLAYER8_XLOC'+suf, 'PLAYER8_YLOC'+suf,\n",
    "               'PLAYER9_XLOC'+suf, 'PLAYER9_YLOC'+suf,\n",
    "               'PLAYER10_XLOC'+suf, 'PLAYER10_YLOC'+suf,\n",
    "               'BALL_XLOC'+suf, 'BALL_YLOC'+suf,\n",
    "               'rim',\n",
    "               'PLAYER1_ID'+suf, 'PLAYER2_ID'+suf, 'PLAYER3_ID'+suf,\n",
    "               'PLAYER4_ID'+suf, 'PLAYER5_ID'+suf, 'PLAYER6_ID'+suf,\n",
    "               'PLAYER7_ID'+suf, 'PLAYER8_ID'+suf, 'PLAYER9_ID'+suf,\n",
    "               'PLAYER10_ID'+suf, 'REBOUNDER_ID'+suf\n",
    "              ]\n",
    "df2 = df[needed_cols].copy()\n",
    "df2 = df2.apply(lambda x: determineAllBoxOuts(x, '_FALL', origin='ball'), axis=1)"
   ]
  },
  {
   "cell_type": "code",
   "execution_count": 4,
   "metadata": {},
   "outputs": [],
   "source": [
    "teamlist = list(df['PLAYER1_TEAMID_FALL'].unique())\n",
    "df = df[~df['REBOUNDER_ID_FALL'].isin(teamlist)]"
   ]
  },
  {
   "cell_type": "code",
   "execution_count": 10,
   "metadata": {},
   "outputs": [
    {
     "name": "stdout",
     "output_type": "stream",
     "text": [
      "25.834350864507893, -3.552713678800501e-15\n",
      "10.16943113935309, 0.12224807137845928\n"
     ]
    }
   ],
   "source": [
    "x1, y1 = newOrigin(df.iloc[16]['PLAYER4_XLOC_FALL'],\n",
    "                   df.iloc[16]['PLAYER4_YLOC_FALL'],\n",
    "                   df.iloc[16]['BALL_XLOC_FALL'],\n",
    "                   df.iloc[16]['BALL_YLOC_FALL'])\n",
    "\n",
    "x9, y9 = newOrigin(df.iloc[16]['PLAYER10_XLOC_FALL'],\n",
    "                   df.iloc[16]['PLAYER10_YLOC_FALL'],\n",
    "                   df.iloc[16]['BALL_XLOC_FALL'],\n",
    "                   df.iloc[16]['BALL_YLOC_FALL'])\n",
    "\n",
    "theta = np.arctan2(y1, x1)\n",
    "x1, y1 = rotateXY(x1, y1, theta)\n",
    "\n",
    "x9, y9 = rotateXY(x9, y9, theta)\n",
    "print('{}, {}'.format(x1, y1))\n",
    "\n",
    "print('{}, {}'.format(x9, y9))"
   ]
  },
  {
   "cell_type": "code",
   "execution_count": 11,
   "metadata": {},
   "outputs": [
    {
     "name": "stdout",
     "output_type": "stream",
     "text": [
      "Rebounder: PLAYER7_\n",
      "BOXED_OUT1_FALL             1\n",
      "BOXED_OUT1x_FALL       1.4219\n",
      "BOXED_OUT1y_FALL    -0.906967\n",
      "BOXED_OUT0BY_FALL     PLAYER7\n",
      "BOXED_OUT2_FALL             1\n",
      "BOXED_OUT2x_FALL      1.42014\n",
      "BOXED_OUT2y_FALL     0.909715\n",
      "BOXED_OUT1BY_FALL     PLAYER7\n",
      "BOXED_OUT3_FALL             1\n",
      "BOXED_OUT3x_FALL      5.86715\n",
      "BOXED_OUT3y_FALL     0.510998\n",
      "BOXED_OUT2BY_FALL     PLAYER2\n",
      "BOXED_OUT4_FALL             1\n",
      "BOXED_OUT4x_FALL     0.689988\n",
      "BOXED_OUT4y_FALL       1.2953\n",
      "BOXED_OUT3BY_FALL     PLAYER8\n",
      "BOXED_OUT5_FALL             1\n",
      "BOXED_OUT5x_FALL     0.175073\n",
      "BOXED_OUT5y_FALL      1.67742\n",
      "BOXED_OUT4BY_FALL     PLAYER7\n",
      "BOXED_OUT6_FALL             1\n",
      "BOXED_OUT6x_FALL     0.171087\n",
      "BOXED_OUT6y_FALL       1.4576\n",
      "BOXED_OUT5BY_FALL     PLAYER8\n",
      "BOXED_OUT7_FALL             1\n",
      "BOXED_OUT7x_FALL      2.56213\n",
      "BOXED_OUT7y_FALL      1.63427\n",
      "BOXED_OUT6BY_FALL     PLAYER1\n",
      "BOXED_OUT8_FALL             1\n",
      "BOXED_OUT8x_FALL      1.13272\n",
      "BOXED_OUT8y_FALL      1.24953\n",
      "BOXED_OUT7BY_FALL     PLAYER7\n",
      "BOXED_OUT9_FALL             1\n",
      "BOXED_OUT9x_FALL     0.929614\n",
      "BOXED_OUT9y_FALL      1.13565\n",
      "BOXED_OUT8BY_FALL     PLAYER8\n",
      "BOXED_OUT10_FALL            1\n",
      "BOXED_OUT10x_FALL     3.00321\n",
      "BOXED_OUT10y_FALL    0.464884\n",
      "BOXED_OUT9BY_FALL     PLAYER1\n",
      "Name: 18, dtype: object\n"
     ]
    },
    {
     "data": {
      "image/png": "[encoded data removed]",
      "text/plain": [
       "<matplotlib.figure.Figure at 0x1c61f160>"
      ]
     },
     "metadata": {},
     "output_type": "display_data"
    }
   ],
   "source": [
    "def plotPlay(df, i, suf):\n",
    "    court = plt.imread(\"fullcourt.png\")\n",
    "    plt.imshow(court, zorder = 0, extent=[0,94,50,0])\n",
    "    col = 'PLAYER{}_{}LOC{}'\n",
    "    row = df.iloc[i]\n",
    "    \n",
    "    for j in range(1,11):\n",
    "        x = col.format(j, 'X', suf)\n",
    "        y = col.format(j, 'Y', suf)\n",
    "        if j <= 5:\n",
    "            c = 'blue'\n",
    "        else:\n",
    "            c = 'red'\n",
    "        plt.scatter(row[x], row[y], c = c)\n",
    "        plt.text(row[x]+1, row[y]+1, 'P'+str(j))\n",
    "\n",
    "    plt.scatter(row['BALL_XLOC_UP'], row['BALL_YLOC_UP'], c = 'yellow')\n",
    "    plt.scatter(row['BALL_XLOC_FALL'], row['BALL_YLOC_FALL'], c = 'green')\n",
    "    \n",
    "#     plt.text(row['PLAYER1_XLOC'+suf], row['PLAYER1_YLOC'+suf], 'P1')\n",
    "    \n",
    "    if row['OFFENSIVE_REB_FALL'] == 1:\n",
    "        txt = 'OFF'\n",
    "        col = 'blue'\n",
    "    else:\n",
    "        txt = 'DEF'\n",
    "        col = 'red'\n",
    "    plt.text(47, 7, txt, fontsize=20, horizontalalignment='center',\n",
    "             bbox=dict(facecolor=col, alpha=0.2))\n",
    "    \n",
    "n = 17\n",
    "\n",
    "id_cols = [col for col in df.columns if '_ID_FALL' in col]\n",
    "b = (df.iloc[n][id_cols] == df.iloc[n]['REBOUNDER_ID_FALL'])\n",
    "print('Rebounder: {}'.format(b[b==True].index[0][:-7]))\n",
    "\n",
    "box_cols = [col for col in df.columns if 'BOXED_OUT' in col]\n",
    "print(df.iloc[n][box_cols])\n",
    "\n",
    "plotPlay(df, n, '_FALL')"
   ]
  },
  {
   "cell_type": "raw",
   "metadata": {},
   "source": [
    "For each event, calculate distances of each player from the ball when it crosses 9 ft and order them closest to farthest, with offense having spots 1-5 and defense 6-10.\n",
    "\n",
    "Need to order columns by closest to rim.\n",
    "Need to match which player got the rebound with which column that player is in after sorting.\n",
    "Need a separate dictionary/output matching all players with their IDs and their team ID and/or whether they're offense/defense"
   ]
  },
  {
   "cell_type": "code",
   "execution_count": 130,
   "metadata": {},
   "outputs": [],
   "source": [
    "def playerPosDF(row, suf, t_or_p = 't'):\n",
    "    outcols = ['Off_Dist1', 'Off_Dist2', 'Off_Dist3', 'Off_Dist4', 'Off_Dist5',\n",
    "               'Def_Dist1', 'Def_Dist2', 'Def_Dist3', 'Def_Dist4', 'Def_Dist5',\n",
    "               'Off_PosX1', 'Off_PosX2', 'Off_PosX3', 'Off_PosX4', 'Off_PosX5',\n",
    "               'Off_PosY1', 'Off_PosY2', 'Off_PosY3', 'Off_PosY4', 'Off_PosY5',\n",
    "               'Off_VelX1', 'Off_VelX2', 'Off_VelX3', 'Off_VelX4', 'Off_VelX5',\n",
    "               'Off_VelY1', 'Off_VelY2', 'Off_VelY3', 'Off_VelY4', 'Off_VelY5',\n",
    "               'Def_PosX1', 'Def_PosX2', 'Def_PosX3', 'Def_PosX4', 'Def_PosX5',\n",
    "               'Def_PosY1', 'Def_PosY2', 'Def_PosY3', 'Def_PosY4', 'Def_PosY5',\n",
    "               'Def_VelX1', 'Def_VelX2', 'Def_VelX3', 'Def_VelX4', 'Def_VelX5',\n",
    "               'Def_VelY1', 'Def_VelY2', 'Def_VelY3', 'Def_VelY4', 'Def_VelY5', \n",
    "               'BALL_DIST']\n",
    "        \n",
    "    off_dist_cols = [x for x in outcols if x[:-1] == 'Off_Dist']\n",
    "    def_dist_cols = [x for x in outcols if x[:-1] == 'Def_Dist']\n",
    "        \n",
    "    off_posx_cols = [x for x in outcols if x[:8] == 'Off_PosX']\n",
    "    def_posx_cols = [x for x in outcols if x[:8] == 'Def_PosX']\n",
    "    \n",
    "    off_posy_cols = [x for x in outcols if x[:8] == 'Off_PosY']\n",
    "    def_posy_cols = [x for x in outcols if x[:8] == 'Def_PosY']\n",
    "    \n",
    "    off_velx_cols = [x for x in outcols if x[:8] == 'Off_VelX']\n",
    "    def_velx_cols = [x for x in outcols if x[:8] == 'Def_VelX']\n",
    "    \n",
    "    off_vely_cols = [x for x in outcols if x[:8] == 'Off_VelY']\n",
    "    def_vely_cols = [x for x in outcols if x[:8] == 'Def_VelY']\n",
    "    \n",
    "    rim = row['rim']\n",
    "    if rim == '1':\n",
    "        offsetx = 0\n",
    "        offsety = 0\n",
    "        flip = 1\n",
    "    else:\n",
    "        offsetx = 94\n",
    "        offsety = 50\n",
    "        flip = -1\n",
    "    \n",
    "    if t_or_p == 't':\n",
    "        row['OReb'] = row['OFFENSIVE_REB' + suf]\n",
    "    elif t_or_p == 'p':\n",
    "        row['Rebounder_ID'] = str(int(row['REBOUNDER_ID' + suf]))\n",
    "    \n",
    "    for i in range(0,5):\n",
    "        row[off_dist_cols[i]] = row['PLAYER'+str(i+1)+'_DIST_'+rim+suf]\n",
    "        row[def_dist_cols[i]] = row['PLAYER'+str(i+6)+'_DIST_'+rim+suf]\n",
    "        \n",
    "        row[off_posx_cols[i]] = np.fabs(row['PLAYER'+str(i+1)+'_XLOC'+suf]-offsetx)\n",
    "        row[def_posx_cols[i]] = np.fabs(row['PLAYER'+str(i+6)+'_XLOC'+suf]-offsetx)\n",
    "        \n",
    "        row[off_posy_cols[i]] = np.fabs(row['PLAYER'+str(i+1)+'_YLOC'+suf]-offsety)\n",
    "        row[def_posy_cols[i]] = np.fabs(row['PLAYER'+str(i+6)+'_YLOC'+suf]-offsety)\n",
    "        \n",
    "        row[off_velx_cols[i]] = row['PLAYER'+str(i+1)+'_XVEL'+suf] * flip\n",
    "        row[def_velx_cols[i]] = row['PLAYER'+str(i+6)+'_XVEL'+suf] * flip\n",
    "        \n",
    "        row[off_vely_cols[i]] = row['PLAYER'+str(i+1)+'_YVEL'+suf] * flip\n",
    "        row[def_vely_cols[i]] = row['PLAYER'+str(i+6)+'_YVEL'+suf] * flip\n",
    "        \n",
    "        \n",
    "    row['BALL_DIST'] = row['BALL_DIST_RIM'+rim+suf]\n",
    "    \n",
    "    return row\n",
    "    \n",
    "\n",
    "def buildFallDF(df, suf = '_FALL', t_or_p = 't'):\n",
    "    outcols = ['Off_Dist1', 'Off_Dist2', 'Off_Dist3', 'Off_Dist4', 'Off_Dist5',\n",
    "               'Def_Dist1', 'Def_Dist2', 'Def_Dist3', 'Def_Dist4', 'Def_Dist5'\n",
    "              ]\n",
    "        \n",
    "    off_cols = [x for x in outcols if x[:-1] == 'Off_Dist']\n",
    "    def_cols = [x for x in outcols if x[:-1] == 'Def_Dist']\n",
    "    \n",
    "    outdf = pd.DataFrame(columns = outcols)\n",
    "    \n",
    "    if t_or_p == 't':\n",
    "        outdf['OReb'] = df['OFFENSIVE_REB' + suf]\n",
    "    elif t_or_p == 'p':\n",
    "        outdf['Rebounder_ID'] = df['REBOUNDER_ID' + suf].astype(int).astype(str)\n",
    "        \n",
    "        outdf['PLAYER_IDS'] = ''\n",
    "        for i in range(1,11):\n",
    "            outdf['PLAYER_IDS'] = outdf['PLAYER_IDS'] + \\\n",
    "                                    df['PLAYER'+str(i)+'_ID'+suf].astype(int).astype(str) + ' '\n",
    "    \n",
    "    for i in range(0,5):\n",
    "        outdf[off_cols[i]] = playerDistToBall(df['PLAYER'+str(i+1)+'_XLOC'+suf],\n",
    "                                                     df['PLAYER'+str(i+1)+'_YLOC'+suf],\n",
    "                                                     df['BALL_XLOC'+suf],\n",
    "                                                     df['BALL_YLOC'+suf])\n",
    "        outdf[def_cols[i]] = playerDistToBall(df['PLAYER'+str(i+6)+'_XLOC'+suf],\n",
    "                                                     df['PLAYER'+str(i+6)+'_YLOC'+suf],\n",
    "                                                     df['BALL_XLOC'+suf],\n",
    "                                                     df['BALL_YLOC'+suf])\n",
    "\n",
    "    \n",
    "#     ovals = outdf[off_cols].values\n",
    "#     dvals = outdf[def_cols].values\n",
    "#     ovals.sort(axis=1)\n",
    "#     dvals.sort(axis=1)\n",
    "#     outdf[off_cols] = ovals\n",
    "#     outdf[def_cols] = dvals\n",
    "    \n",
    "    return outdf"
   ]
  },
  {
   "cell_type": "code",
   "execution_count": null,
   "metadata": {},
   "outputs": [],
   "source": [
    "outcols = ['Off_PosX1', 'Off_PosX2', 'Off_PosX3', 'Off_PosX4', 'Off_PosX5',\n",
    "           'Off_PosY1', 'Off_PosY2', 'Off_PosY3', 'Off_PosY4', 'Off_PosY5',\n",
    "           'Off_VelX1', 'Off_VelX2', 'Off_VelX3', 'Off_VelX4', 'Off_VelX5',\n",
    "           'Off_VelY1', 'Off_VelY2', 'Off_VelY3', 'Off_VelY4', 'Off_VelY5',\n",
    "           'Def_PosX1', 'Def_PosX2', 'Def_PosX3', 'Def_PosX4', 'Def_PosX5',\n",
    "           'Def_PosY1', 'Def_PosY2', 'Def_PosY3', 'Def_PosY4', 'Def_PosY5',\n",
    "           'Def_VelX1', 'Def_VelX2', 'Def_VelX3', 'Def_VelX4', 'Def_VelX5',\n",
    "           'Def_VelY1', 'Def_VelY2', 'Def_VelY3', 'Def_VelY4', 'Def_VelY5', \n",
    "           'BALL_DIST', 'Rebounder_ID']\n",
    "\n",
    "outdf = buildFallDF(df, t_or_p = 'p')\n",
    "teamlist = df['PLAYER1_TEAMID_UP'].unique().astype(int).astype(str)\n",
    "outdf = outdf[~outdf['Rebounder_ID'].isin(teamlist)]\n",
    "# df = df.apply(lambda x: playerPosDF(x, '_UP', 'p'), axis = 1)\n",
    "# updf = df[outcols].copy()"
   ]
  },
  {
   "cell_type": "code",
   "execution_count": 131,
   "metadata": {},
   "outputs": [],
   "source": [
    "def orderRows(row):\n",
    "    sortcols = ['Off_Dist1', 'Off_Dist2', 'Off_Dist3', 'Off_Dist4', 'Off_Dist5',\n",
    "               'Def_Dist1', 'Def_Dist2', 'Def_Dist3', 'Def_Dist4', 'Def_Dist5'\n",
    "               ]\n",
    "    id_to_idx = dict(zip(row['PLAYER_IDS'].split(), row.index))\n",
    "\n",
    "    return row[sortcols].sort_values().index.get_loc(id_to_idx[row['Rebounder_ID']])\n",
    "    \n",
    "outdf['Player_Num'] = outdf.apply(orderRows, axis = 1)\n",
    "\n",
    "def sortByClosest(df):\n",
    "    in_cols = ['Off_Dist1', 'Off_Dist2', 'Off_Dist3', 'Off_Dist4', 'Off_Dist5',\n",
    "               'Def_Dist1', 'Def_Dist2', 'Def_Dist3', 'Def_Dist4', 'Def_Dist5'\n",
    "               ]\n",
    "    \n",
    "    vals = df[in_cols].values\n",
    "    vals.sort(axis=1)\n",
    "    df[in_cols] = vals\n",
    "    \n",
    "\n",
    "outdf.drop(['PLAYER_IDS', 'Rebounder_ID'], axis = 1, inplace = True)\n",
    "sortByClosest(outdf)"
   ]
  },
  {
   "cell_type": "raw",
   "metadata": {},
   "source": [
    "Need to create new features:\n",
    "1) Is anyone between player and the ball?\n",
    "2) velocity (x and y)\n",
    "3) velocity (relative to rim/ball)\n",
    "4) Height"
   ]
  },
  {
   "cell_type": "code",
   "execution_count": 134,
   "metadata": {},
   "outputs": [
    {
     "name": "stdout",
     "output_type": "stream",
     "text": [
      "[[3140  126   41   17    9    4    2    0    0    0]\n",
      " [ 442   34   10    4    3    0    0    0    0    0]\n",
      " [ 247   23    6    4    1    1    0    0    0    0]\n",
      " [ 136   13    6    1    2    2    1    0    0    0]\n",
      " [ 103    4    6    3    2    3    0    0    0    0]\n",
      " [  82    6    3    3    3    0    1    0    0    0]\n",
      " [  49    7    3    1    1    2    2    1    0    0]\n",
      " [  30    3    1    0    1    0    1    0    0    0]\n",
      " [  20    1    0    0    0    0    1    0    0    0]\n",
      " [  17    2    1    0    0    0    0    0    0    0]]\n",
      "0.22101283073425293\n"
     ]
    }
   ],
   "source": [
    "import time\n",
    "from sklearn.linear_model import LogisticRegression\n",
    "from sklearn.svm import SVC\n",
    "from sklearn.neighbors import KNeighborsClassifier as KNN\n",
    "from sklearn.ensemble import GradientBoostingClassifier\n",
    "from sklearn.neural_network import MLPClassifier\n",
    "from sklearn.cross_validation import train_test_split\n",
    "from sklearn import metrics\n",
    "from sklearn.cross_validation import cross_val_score\n",
    "from sklearn.model_selection import GridSearchCV\n",
    "\n",
    "X = outdf.drop('Player_Num', axis = 1)\n",
    "y = outdf['Player_Num']\n",
    "X_train, X_test, y_train, y_test = train_test_split(X, y, test_size=0.3, random_state=0)\n",
    "t0 = time.time()\n",
    "# No data split\n",
    "model = KNN(n_neighbors=3)\n",
    "model.fit(X_train, y_train)\n",
    "predicted = model.predict(X_test)\n",
    "# print(metrics.precision_score(y_test, predicted))\n",
    "# print(metrics.recall_score(y_test, predicted))\n",
    "print(metrics.confusion_matrix(y_test, predicted))\n",
    "t1 = time.time()\n",
    "print (t1 - t0)"
   ]
  },
  {
   "cell_type": "code",
   "execution_count": 45,
   "metadata": {},
   "outputs": [
    {
     "data": {
      "text/plain": [
       "GridSearchCV(cv=None, error_score='raise',\n",
       "       estimator=KNeighborsClassifier(algorithm='auto', leaf_size=30, metric='minkowski',\n",
       "           metric_params=None, n_jobs=1, n_neighbors=5, p=2,\n",
       "           weights='uniform'),\n",
       "       fit_params=None, iid=True, n_jobs=1,\n",
       "       param_grid={'n_neighbors': range(1, 100)}, pre_dispatch='2*n_jobs',\n",
       "       refit=True, return_train_score='warn', scoring=None, verbose=0)"
      ]
     },
     "execution_count": 45,
     "metadata": {},
     "output_type": "execute_result"
    }
   ],
   "source": [
    "parameters = {'n_neighbors': range(1,100)}\n",
    "knn = KNN()\n",
    "knnmodel = GridSearchCV(knn, parameters)\n",
    "knnmodel.fit(X_train, y_train)"
   ]
  },
  {
   "cell_type": "code",
   "execution_count": 4,
   "metadata": {},
   "outputs": [],
   "source": [
    "# pd.DataFrame(list(zip(X.columns, [x[0] for x in np.transpose(model.coef_)])))"
   ]
  },
  {
   "cell_type": "code",
   "execution_count": 25,
   "metadata": {},
   "outputs": [
    {
     "name": "stdout",
     "output_type": "stream",
     "text": [
      "[[4037   23]\n",
      " [ 846   13]]\n"
     ]
    }
   ],
   "source": [
    "# Train/test split\n",
    "X_train, X_test, y_train, y_test = train_test_split(X, y, test_size=0.3, random_state=0)\n",
    "model2 = GradientBoostingClassifier(n_estimators=100, learning_rate=1.0,\n",
    "                                    max_depth=1, random_state=0)\n",
    "model2.fit(X_train, y_train)\n",
    "predicted = model2.predict(X_test)\n",
    "print(metrics.confusion_matrix(y_test, predicted))"
   ]
  },
  {
   "cell_type": "code",
   "execution_count": 20,
   "metadata": {},
   "outputs": [
    {
     "name": "stdout",
     "output_type": "stream",
     "text": [
      "0.823604839602\n",
      "4.147237062454224\n"
     ]
    }
   ],
   "source": [
    "# Cross-validation\n",
    "t0 = time.time()\n",
    "scores = cross_val_score(KNN(n_neighbors=30), X, y, scoring='accuracy', cv=10)\n",
    "print(scores.mean())\n",
    "t1 = time.time()\n",
    "print(t1 - t0)"
   ]
  },
  {
   "cell_type": "raw",
   "metadata": {},
   "source": [
    "The following code visualizes a snapshot given a GAME_ID and EVENT_NUM"
   ]
  },
  {
   "cell_type": "code",
   "execution_count": 39,
   "metadata": {},
   "outputs": [
    {
     "name": "stdout",
     "output_type": "stream",
     "text": [
      "0.862980280545\n",
      "[[3888  172]\n",
      " [ 502  357]]\n"
     ]
    }
   ],
   "source": [
    "from imblearn.over_sampling import RandomOverSampler\n",
    "\n",
    "X = outdf.drop('Off_Reb', axis = 1)\n",
    "y = outdf['Off_Reb']\n",
    "\n",
    "ros = RandomOverSampler(random_state=0)\n",
    "X_resampled, y_resampled = ros.fit_sample(X, y)\n",
    "\n",
    "# Train/test split\n",
    "X_train, X_test, y_train, y_test = train_test_split(X, y,\n",
    "                                                    test_size=0.3, random_state=0)\n",
    "model2 = GradientBoostingClassifier(n_estimators=100, learning_rate=1.0,\n",
    "                                    max_depth=1, random_state=0)\n",
    "model2.fit(X_train, y_train)\n",
    "predicted = model2.predict(X_test)\n",
    "print(model2.score(X_test, y_test))\n",
    "print(metrics.confusion_matrix(y_test, predicted))"
   ]
  },
  {
   "cell_type": "code",
   "execution_count": 32,
   "metadata": {},
   "outputs": [
    {
     "name": "stdout",
     "output_type": "stream",
     "text": [
      "0.599900211092\n",
      "8.290473937988281\n"
     ]
    }
   ],
   "source": [
    "# Cross-validation\n",
    "t0 = time.time()\n",
    "scores = cross_val_score(GradientBoostingClassifier(n_estimators=100,\n",
    "                                                    learning_rate=1.0,\n",
    "                                                    max_depth=1,\n",
    "                                                    random_state=0),\n",
    "                         X_resampled, y_resampled, scoring='accuracy', cv=10)\n",
    "print(scores.mean())\n",
    "t1 = time.time()\n",
    "print(t1 - t0)"
   ]
  }
 ],
 "metadata": {
  "kernelspec": {
   "display_name": "Python 3",
   "language": "python",
   "name": "python3"
  },
  "language_info": {
   "codemirror_mode": {
    "name": "ipython",
    "version": 3
   },
   "file_extension": ".py",
   "mimetype": "text/x-python",
   "name": "python",
   "nbconvert_exporter": "python",
   "pygments_lexer": "ipython3",
   "version": "3.6.3"
  }
 },
 "nbformat": 4,
 "nbformat_minor": 2
}
