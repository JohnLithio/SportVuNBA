{
 "cells": [
  {
   "cell_type": "code",
   "execution_count": 1,
   "metadata": {},
   "outputs": [],
   "source": [
    "import matplotlib.pyplot as plt\n",
    "import numpy as np\n",
    "import pandas as pd\n",
    "import os\n",
    "import re\n",
    "import sys\n",
    "\n",
    "plt.style.use('seaborn')\n",
    "%matplotlib inline\n",
    "\n",
    "# Load snapshot data\n",
    "# df = pd.read_csv(r'Snapshot CSVs/All_Snapshots.csv')"
   ]
  },
  {
   "cell_type": "code",
   "execution_count": 293,
   "metadata": {},
   "outputs": [],
   "source": [
    "up_df = pd.read_csv(r'Snapshot CSVs/Up_Snapshot.csv')\n",
    "peak_df = pd.read_csv(r'Snapshot CSVs/Peak_Snapshot.csv')\n",
    "rim_df = pd.read_csv(r'Snapshot CSVs/Rim_Snapshot.csv')\n",
    "fall_df = pd.read_csv(r'Snapshot CSVs/Fall_Snapshot.csv')\n",
    "\n",
    "def dropAllDuplicates(df):\n",
    "    duplicates = df.drop(['EVENT_NUM', 'SHOOTER_ID', 'SHOT_DISTANCE', 'SHOT_TIME',\n",
    "                          'OFFENSIVE_REB', 'EVENT_TIME'], axis=1).duplicated(keep=False)\n",
    "    return df[~duplicates]\n",
    "\n",
    "up_df = dropAllDuplicates(up_df)\n",
    "peak_df = dropAllDuplicates(peak_df)\n",
    "rim_df = dropAllDuplicates(rim_df)\n",
    "fall_df = dropAllDuplicates(fall_df)"
   ]
  },
  {
   "cell_type": "code",
   "execution_count": 294,
   "metadata": {},
   "outputs": [],
   "source": [
    "def flipCourt(df):\n",
    "    xlocs = [col for col in df.columns if ('XLOC' in col) and ('PLAYER' in col)]\n",
    "    ylocs = [col for col in df.columns if ('YLOC' in col) and ('PLAYER' in col)]\n",
    "    xvels = [col for col in df.columns if 'XVEL' in col]\n",
    "    yvels = [col for col in df.columns if 'YVEL' in col]\n",
    "    \n",
    "    for i in range(0, len(xlocs)):\n",
    "        df[xlocs[i]] = np.where(rim_df['BALL_XLOC'] > 47,\n",
    "                                94 - df[xlocs[i]],\n",
    "                                df[xlocs[i]])\n",
    "        df[ylocs[i]] = np.where(rim_df['BALL_XLOC'] > 47,\n",
    "                                50 - df[ylocs[i]],\n",
    "                                df[ylocs[i]])\n",
    "        df[xvels[i]] = np.where(rim_df['BALL_XLOC'] > 47,\n",
    "                                -1 * df[xvels[i]],\n",
    "                                df[xvels[i]])\n",
    "        df[yvels[i]] = np.where(rim_df['BALL_XLOC'] > 47,\n",
    "                                -1 * df[yvels[i]],\n",
    "                                df[yvels[i]])\n",
    "    df['BALL_DISTRIM'] = np.where(rim_df['BALL_XLOC'] > 47,\n",
    "                                 df['BALL_DIST_RIM2'],\n",
    "                                 df['BALL_DIST_RIM1'])\n",
    "    df['BALL_YLOC'] = np.where(rim_df['BALL_XLOC'] > 47,\n",
    "                                50 - df['BALL_YLOC'],\n",
    "                                df['BALL_YLOC'])\n",
    "    df['BALL_XLOC'] = np.where(rim_df['BALL_XLOC'] > 47,\n",
    "                                94 - df['BALL_XLOC'],\n",
    "                                df['BALL_XLOC'])\n",
    "    \n",
    "    return df\n",
    "\n",
    "up_df = flipCourt(up_df)\n",
    "peak_df = flipCourt(peak_df)\n",
    "fall_df = flipCourt(fall_df)\n",
    "rim_df = flipCourt(rim_df)\n",
    "\n",
    "for i in range(1, 11):\n",
    "    col = 'PLAYER{}_{}'\n",
    "    xloc = up_df[col.format(i, 'XLOC')]\n",
    "    yloc = up_df[col.format(i, 'YLOC')]\n",
    "    up_df[col.format(i, 'DISTRIM')] = ((xloc-5.25)**2 + (yloc-25)**2)**.5"
   ]
  },
  {
   "cell_type": "code",
   "execution_count": 295,
   "metadata": {},
   "outputs": [],
   "source": [
    "# Remove non-shots. These are plays that descend to 11 feet farther than 5 feet away\n",
    "goodrows = ((rim_df['BALL_DIST_RIM1'] < 5) | (rim_df['BALL_DIST_RIM2'] < 5))\n",
    "\n",
    "up_df = up_df[goodrows]\n",
    "peak_df = peak_df[goodrows]\n",
    "rim_df = rim_df[goodrows]\n",
    "fall_df = fall_df[goodrows]\n",
    "\n",
    "# Shots outside of 30 feet and rebounds over 20\n",
    "badrows = ((up_df['BALL_DISTRIM'] > 30) | (fall_df['BALL_DISTRIM'] > 25))\n",
    "\n",
    "up_df = up_df[~badrows]\n",
    "peak_df = peak_df[~badrows]\n",
    "rim_df = rim_df[~badrows]\n",
    "fall_df = fall_df[~badrows]"
   ]
  },
  {
   "cell_type": "code",
   "execution_count": 296,
   "metadata": {},
   "outputs": [],
   "source": [
    "teamlist = list(up_df['PLAYER1_TEAMID'].unique())\n",
    "up_df = up_df[~up_df['REBOUNDER_ID'].isin(teamlist)]\n",
    "peak_df = peak_df[~peak_df['REBOUNDER_ID'].isin(teamlist)]\n",
    "rim_df = rim_df[~rim_df['REBOUNDER_ID'].isin(teamlist)]\n",
    "fall_df = fall_df[~fall_df['REBOUNDER_ID'].isin(teamlist)]"
   ]
  },
  {
   "cell_type": "raw",
   "metadata": {},
   "source": [
    "The following cell determines if a player is being \"boxed-out\" on a particular play. A player is considered boxed-out if there is another player within 2 feet of the direct path between him and the rim. Near the hoop and the player, the condition is less than 2 feet."
   ]
  },
  {
   "cell_type": "code",
   "execution_count": 297,
   "metadata": {},
   "outputs": [],
   "source": [
    "xloc = 'PLAYER{}_{}'\n",
    "yloc = 'PLAYER{}_{}'\n",
    "for i in range(1,11):\n",
    "    xshift = up_df[xloc.format(i,'XLOC')] - 5.25\n",
    "    yshift = up_df[yloc.format(i,'YLOC')] - 25\n",
    "    theta = np.arctan2(yshift, xshift)\n",
    "    \n",
    "    newx = xshift*np.cos(theta) + yshift*np.sin(theta)\n",
    "    newy = -xshift*np.sin(theta) + yshift*np.cos(theta)\n",
    "    \n",
    "    up_df[xloc.format(i,'BOXEDOUT')] = False\n",
    "    \n",
    "    for j in range(1,11):\n",
    "        if i != j:\n",
    "            pxshift = up_df[xloc.format(j,'XLOC')] - 5.25\n",
    "            pyshift = up_df[yloc.format(j,'YLOC')] - 25\n",
    "            \n",
    "            px = pxshift*np.cos(theta) + pyshift*np.sin(theta)\n",
    "            py = -pxshift*np.sin(theta) + pyshift*np.cos(theta)\n",
    "            \n",
    "            up_df[xloc.format(i,'BOXEDOUT')] = (up_df[xloc.format(i,'BOXEDOUT')] |\n",
    "                                                ((0 < newx - px) &\n",
    "                                                (newx > newx - px) &\n",
    "                                                (np.fabs(py) < np.fabs(px/2)) &\n",
    "                                                (np.fabs(py) < 2)) &\n",
    "                                                (np.fabs((newx-px)) > np.fabs(py)))"
   ]
  },
  {
   "cell_type": "code",
   "execution_count": 250,
   "metadata": {},
   "outputs": [
    {
     "name": "stdout",
     "output_type": "stream",
     "text": [
      "Rebounder: PLAYER8_\n",
      "PLAYER1_BOXEDOUT      True\n",
      "PLAYER2_BOXEDOUT      True\n",
      "PLAYER3_BOXEDOUT      True\n",
      "PLAYER4_BOXEDOUT      True\n",
      "PLAYER5_BOXEDOUT     False\n",
      "PLAYER6_BOXEDOUT     False\n",
      "PLAYER7_BOXEDOUT      True\n",
      "PLAYER8_BOXEDOUT     False\n",
      "PLAYER9_BOXEDOUT     False\n",
      "PLAYER10_BOXEDOUT     True\n",
      "Name: 119, dtype: object\n"
     ]
    },
    {
     "data": {
      "image/png": "[encoded data removed]",
      "text/plain": [
       "<matplotlib.figure.Figure at 0x1b588438>"
      ]
     },
     "metadata": {},
     "output_type": "display_data"
    }
   ],
   "source": [
    "def plotPlay(df, i, suf):\n",
    "    court = plt.imread(\"fullcourt.png\")\n",
    "    plt.imshow(court, zorder = 0, extent=[0,94,50,0])\n",
    "    col = 'PLAYER{}_{}LOC'\n",
    "    row = df.iloc[i]\n",
    "    \n",
    "    for j in range(1,11):\n",
    "        x = col.format(j, 'X')\n",
    "        y = col.format(j, 'Y')\n",
    "        if j <= 5:\n",
    "            c = 'blue'\n",
    "        else:\n",
    "            c = 'red'\n",
    "        plt.scatter(row[x], row[y], c = c)\n",
    "        plt.text(row[x]+1, row[y]+1, 'P'+str(j))\n",
    "\n",
    "    plt.scatter(row['BALL_XLOC'], row['BALL_YLOC'], c = 'green')\n",
    "#     plt.scatter(row['BALL_XLOC_FALL'], row['BALL_YLOC_FALL'], c = 'green')\n",
    "    \n",
    "#     plt.text(row['PLAYER1_XLOC'+suf], row['PLAYER1_YLOC'+suf], 'P1')\n",
    "    \n",
    "    if row['OFFENSIVE_REB'] == 1:\n",
    "        txt = 'OFF'\n",
    "        col = 'blue'\n",
    "    else:\n",
    "        txt = 'DEF'\n",
    "        col = 'red'\n",
    "    plt.text(47, 7, txt, fontsize=20, horizontalalignment='center',\n",
    "             bbox=dict(facecolor=col, alpha=0.2))\n",
    "    \n",
    "n = 103\n",
    "\n",
    "id_cols = [col for col in up_df.columns if '_ID' in col]\n",
    "b = (up_df.iloc[n][id_cols] == up_df.iloc[n]['REBOUNDER_ID'])\n",
    "print('Rebounder: {}'.format(b[b==True].index[0][:-2]))\n",
    "\n",
    "box_cols = [col for col in up_df.columns if 'BOXEDOUT' in col]\n",
    "print(up_df.iloc[n][box_cols])\n",
    "\n",
    "plotPlay(up_df, n, '_FALL')"
   ]
  },
  {
   "cell_type": "raw",
   "metadata": {},
   "source": [
    "Try these columns:\n",
    "- Dist to rim for all players (10)\n",
    "- Predicted rebound length (1)\n",
    "    - Need BALL_DISTRIM from up and fall\n",
    "- Boxed out for all players (10)\n",
    "- X and Y vels for all players (20)\n",
    "- Which player got the rebound"
   ]
  },
  {
   "cell_type": "code",
   "execution_count": 312,
   "metadata": {},
   "outputs": [],
   "source": [
    "dist_cols = [col for col in up_df.columns if ('DISTRIM' in col) and ('PLAYER' in col)]\n",
    "box_cols = [col for col in up_df.columns if 'BOXEDOUT' in col]\n",
    "vel_cols = [col for col in up_df.columns if ('VEL' in col) and ('PLAYER' in col)]\n",
    "\n",
    "data = up_df[dist_cols+box_cols+vel_cols].copy()\n",
    "data['BALL_DISTRIM_UP'] = up_df['BALL_DISTRIM']\n",
    "data['BALL_DISTRIM_FALL'] = fall_df['BALL_DISTRIM']\n"
   ]
  },
  {
   "cell_type": "raw",
   "metadata": {},
   "source": [
    "Following cell uses linear regression to predict rebound length"
   ]
  },
  {
   "cell_type": "code",
   "execution_count": 283,
   "metadata": {},
   "outputs": [],
   "source": [
    "from sklearn import linear_model\n",
    "\n",
    "def rebLength(X):\n",
    "    tempX = X['BALL_DISTRIM_UP'].values.reshape(-1,1)\n",
    "    tempy = X['BALL_DISTRIM_FALL']\n",
    "    model = linear_model.LinearRegression()\n",
    "    model.fit(tempX, tempy)\n",
    "    y_pred = model.predict(tempX)\n",
    "    return y_pred"
   ]
  },
  {
   "cell_type": "raw",
   "metadata": {},
   "source": [
    "For each event, calculate distances of each player from the ball when it crosses 9 ft and order them closest to farthest, with offense having spots 1-5 and defense 6-10.\n",
    "\n",
    "Need to order columns by closest to rim.\n",
    "Need to match which player got the rebound with which column that player is in after sorting.\n",
    "Need a separate dictionary/output matching all players with their IDs and their team ID and/or whether they're offense/defense"
   ]
  },
  {
   "cell_type": "code",
   "execution_count": 131,
   "metadata": {},
   "outputs": [],
   "source": [
    "def orderRows(row):\n",
    "    sortcols = ['Off_Dist1', 'Off_Dist2', 'Off_Dist3', 'Off_Dist4', 'Off_Dist5',\n",
    "               'Def_Dist1', 'Def_Dist2', 'Def_Dist3', 'Def_Dist4', 'Def_Dist5'\n",
    "               ]\n",
    "    id_to_idx = dict(zip(row['PLAYER_IDS'].split(), row.index))\n",
    "\n",
    "    return row[sortcols].sort_values().index.get_loc(id_to_idx[row['Rebounder_ID']])\n",
    "    \n",
    "outdf['Player_Num'] = outdf.apply(orderRows, axis = 1)\n",
    "\n",
    "def sortByClosest(df):\n",
    "    in_cols = ['Off_Dist1', 'Off_Dist2', 'Off_Dist3', 'Off_Dist4', 'Off_Dist5',\n",
    "               'Def_Dist1', 'Def_Dist2', 'Def_Dist3', 'Def_Dist4', 'Def_Dist5'\n",
    "               ]\n",
    "    \n",
    "    vals = df[in_cols].values\n",
    "    vals.sort(axis=1)\n",
    "    df[in_cols] = vals\n",
    "    \n",
    "\n",
    "outdf.drop(['PLAYER_IDS', 'Rebounder_ID'], axis = 1, inplace = True)\n",
    "sortByClosest(outdf)"
   ]
  },
  {
   "cell_type": "raw",
   "metadata": {},
   "source": [
    "Need to create new features:\n",
    "1) Is anyone between player and the ball? - DONE\n",
    "2) velocity (x and y) - DONE\n",
    "3) velocity (relative to rim/ball)\n",
    "4) Height"
   ]
  },
  {
   "cell_type": "code",
   "execution_count": 134,
   "metadata": {},
   "outputs": [
    {
     "name": "stdout",
     "output_type": "stream",
     "text": [
      "[[3140  126   41   17    9    4    2    0    0    0]\n",
      " [ 442   34   10    4    3    0    0    0    0    0]\n",
      " [ 247   23    6    4    1    1    0    0    0    0]\n",
      " [ 136   13    6    1    2    2    1    0    0    0]\n",
      " [ 103    4    6    3    2    3    0    0    0    0]\n",
      " [  82    6    3    3    3    0    1    0    0    0]\n",
      " [  49    7    3    1    1    2    2    1    0    0]\n",
      " [  30    3    1    0    1    0    1    0    0    0]\n",
      " [  20    1    0    0    0    0    1    0    0    0]\n",
      " [  17    2    1    0    0    0    0    0    0    0]]\n",
      "0.22101283073425293\n"
     ]
    }
   ],
   "source": [
    "import time\n",
    "from sklearn.linear_model import LogisticRegression\n",
    "from sklearn.svm import SVC\n",
    "from sklearn.neighbors import KNeighborsClassifier as KNN\n",
    "from sklearn.ensemble import GradientBoostingClassifier\n",
    "from sklearn.neural_network import MLPClassifier\n",
    "from sklearn.cross_validation import train_test_split\n",
    "from sklearn import metrics\n",
    "from sklearn.cross_validation import cross_val_score\n",
    "from sklearn.model_selection import GridSearchCV\n",
    "\n",
    "X = outdf.drop('Player_Num', axis = 1)\n",
    "y = outdf['Player_Num']\n",
    "X_train, X_test, y_train, y_test = train_test_split(X, y, test_size=0.3, random_state=0)\n",
    "t0 = time.time()\n",
    "# No data split\n",
    "model = KNN(n_neighbors=3)\n",
    "model.fit(X_train, y_train)\n",
    "predicted = model.predict(X_test)\n",
    "# print(metrics.precision_score(y_test, predicted))\n",
    "# print(metrics.recall_score(y_test, predicted))\n",
    "print(metrics.confusion_matrix(y_test, predicted))\n",
    "t1 = time.time()\n",
    "print (t1 - t0)"
   ]
  },
  {
   "cell_type": "code",
   "execution_count": 45,
   "metadata": {},
   "outputs": [
    {
     "data": {
      "text/plain": [
       "GridSearchCV(cv=None, error_score='raise',\n",
       "       estimator=KNeighborsClassifier(algorithm='auto', leaf_size=30, metric='minkowski',\n",
       "           metric_params=None, n_jobs=1, n_neighbors=5, p=2,\n",
       "           weights='uniform'),\n",
       "       fit_params=None, iid=True, n_jobs=1,\n",
       "       param_grid={'n_neighbors': range(1, 100)}, pre_dispatch='2*n_jobs',\n",
       "       refit=True, return_train_score='warn', scoring=None, verbose=0)"
      ]
     },
     "execution_count": 45,
     "metadata": {},
     "output_type": "execute_result"
    }
   ],
   "source": [
    "parameters = {'n_neighbors': range(1,100)}\n",
    "knn = KNN()\n",
    "knnmodel = GridSearchCV(knn, parameters)\n",
    "knnmodel.fit(X_train, y_train)"
   ]
  },
  {
   "cell_type": "code",
   "execution_count": 4,
   "metadata": {},
   "outputs": [],
   "source": [
    "# pd.DataFrame(list(zip(X.columns, [x[0] for x in np.transpose(model.coef_)])))"
   ]
  },
  {
   "cell_type": "code",
   "execution_count": 25,
   "metadata": {},
   "outputs": [
    {
     "name": "stdout",
     "output_type": "stream",
     "text": [
      "[[4037   23]\n",
      " [ 846   13]]\n"
     ]
    }
   ],
   "source": [
    "# Train/test split\n",
    "X_train, X_test, y_train, y_test = train_test_split(X, y, test_size=0.3, random_state=0)\n",
    "model2 = GradientBoostingClassifier(n_estimators=100, learning_rate=1.0,\n",
    "                                    max_depth=1, random_state=0)\n",
    "model2.fit(X_train, y_train)\n",
    "predicted = model2.predict(X_test)\n",
    "print(metrics.confusion_matrix(y_test, predicted))"
   ]
  },
  {
   "cell_type": "code",
   "execution_count": 20,
   "metadata": {},
   "outputs": [
    {
     "name": "stdout",
     "output_type": "stream",
     "text": [
      "0.823604839602\n",
      "4.147237062454224\n"
     ]
    }
   ],
   "source": [
    "# Cross-validation\n",
    "t0 = time.time()\n",
    "scores = cross_val_score(KNN(n_neighbors=30), X, y, scoring='accuracy', cv=10)\n",
    "print(scores.mean())\n",
    "t1 = time.time()\n",
    "print(t1 - t0)"
   ]
  },
  {
   "cell_type": "raw",
   "metadata": {},
   "source": [
    "The following code visualizes a snapshot given a GAME_ID and EVENT_NUM"
   ]
  },
  {
   "cell_type": "code",
   "execution_count": 39,
   "metadata": {},
   "outputs": [
    {
     "name": "stdout",
     "output_type": "stream",
     "text": [
      "0.862980280545\n",
      "[[3888  172]\n",
      " [ 502  357]]\n"
     ]
    }
   ],
   "source": [
    "from imblearn.over_sampling import RandomOverSampler\n",
    "\n",
    "X = outdf.drop('Off_Reb', axis = 1)\n",
    "y = outdf['Off_Reb']\n",
    "\n",
    "ros = RandomOverSampler(random_state=0)\n",
    "X_resampled, y_resampled = ros.fit_sample(X, y)\n",
    "\n",
    "# Train/test split\n",
    "X_train, X_test, y_train, y_test = train_test_split(X, y,\n",
    "                                                    test_size=0.3, random_state=0)\n",
    "model2 = GradientBoostingClassifier(n_estimators=100, learning_rate=1.0,\n",
    "                                    max_depth=1, random_state=0)\n",
    "model2.fit(X_train, y_train)\n",
    "predicted = model2.predict(X_test)\n",
    "print(model2.score(X_test, y_test))\n",
    "print(metrics.confusion_matrix(y_test, predicted))"
   ]
  },
  {
   "cell_type": "code",
   "execution_count": 32,
   "metadata": {},
   "outputs": [
    {
     "name": "stdout",
     "output_type": "stream",
     "text": [
      "0.599900211092\n",
      "8.290473937988281\n"
     ]
    }
   ],
   "source": [
    "# Cross-validation\n",
    "t0 = time.time()\n",
    "scores = cross_val_score(GradientBoostingClassifier(n_estimators=100,\n",
    "                                                    learning_rate=1.0,\n",
    "                                                    max_depth=1,\n",
    "                                                    random_state=0),\n",
    "                         X_resampled, y_resampled, scoring='accuracy', cv=10)\n",
    "print(scores.mean())\n",
    "t1 = time.time()\n",
    "print(t1 - t0)"
   ]
  }
 ],
 "metadata": {
  "kernelspec": {
   "display_name": "Python 3",
   "language": "python",
   "name": "python3"
  },
  "language_info": {
   "codemirror_mode": {
    "name": "ipython",
    "version": 3
   },
   "file_extension": ".py",
   "mimetype": "text/x-python",
   "name": "python",
   "nbconvert_exporter": "python",
   "pygments_lexer": "ipython3",
   "version": "3.6.3"
  }
 },
 "nbformat": 4,
 "nbformat_minor": 2
}
