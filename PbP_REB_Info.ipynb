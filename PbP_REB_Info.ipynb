{
 "cells": [
  {
   "cell_type": "raw",
   "metadata": {},
   "source": [
    "This notebook takes play-by-play data scraped from stats.nba.com and manipulates it to combine rebound and shot information. This rebound info will then be merged with SportVu tracking data to predict rebounds. The notebook takes about 5 minutes to run."
   ]
  },
  {
   "cell_type": "code",
   "execution_count": 1,
   "metadata": {},
   "outputs": [],
   "source": [
    "import matplotlib.pyplot as plt\n",
    "import pandas as pd\n",
    "import re\n",
    "from os import walk\n",
    "from os.path import join\n",
    "\n",
    "plt.style.use('seaborn')\n",
    "%matplotlib inline\n",
    "\n",
    "pbp_dir = 'Play By Play Data'\n",
    "\n",
    "# Get a list of all the files in the top level of a directory\n",
    "def fileList(directory):\n",
    "    f = []\n",
    "    for (dirpath, dirnames, filenames) in walk(directory):\n",
    "        f.extend(filenames)\n",
    "        break\n",
    "    \n",
    "    return f\n",
    "\n",
    "# Compile all CSV files from a directory into a single dataframe\n",
    "def dfFromDirectory(directory):\n",
    "    pbplist = fileList(directory)\n",
    "    pbp_df = pd.DataFrame()\n",
    "    for f in pbplist:\n",
    "        if f[-3:].upper() == 'CSV':\n",
    "            df = pd.read_csv(join(directory, f))\n",
    "            pbp_df = pbp_df.append(df, ignore_index=True)\n",
    "        \n",
    "    return pbp_df\n",
    "\n",
    "# Filter the Play By Play dataframe by event. Context = True will include the 2 plays before and after the event\n",
    "def filterByEvent(pbp_df, e1, e2 = -1, context = False):\n",
    "    if e2 > -1:\n",
    "        idx_list = pbp_df.index[(pbp_df['EVENTMSGTYPE'] == e1) & (pbp_df['EVENTMSGACTIONTYPE'] == e2)].tolist()\n",
    "    else:\n",
    "        idx_list = pbp_df.index[pbp_df['EVENTMSGTYPE'] == e1].tolist()\n",
    "    if context:\n",
    "        filter_idx = []\n",
    "        for idx in idx_list:\n",
    "            filter_idx.extend([idx-2, idx-1, idx, idx+1, idx+2])\n",
    "    else:\n",
    "        filter_idx = idx_list\n",
    "    play_df = pbp_df.iloc[filter_idx]\n",
    "    \n",
    "    return play_df"
   ]
  },
  {
   "cell_type": "raw",
   "metadata": {},
   "source": [
    "Compile all of the play-by-play data into one dataframe and then filter out the player rebounds, which are EVENTMSGTYPE 4 and EVENTMSGACTIONTYPE 0. Missed field goals are EVENTMSGTYPE 2."
   ]
  },
  {
   "cell_type": "code",
   "execution_count": 2,
   "metadata": {},
   "outputs": [],
   "source": [
    "pbp_df = dfFromDirectory(pbp_dir) # Compile dataframe from CSV files in directory\n",
    "all_reb_df = filterByEvent(pbp_df, 4, 0) # Get all player rebounds"
   ]
  },
  {
   "cell_type": "raw",
   "metadata": {},
   "source": [
    "Before we filter our data into rebounds, let's add a few columns.\n",
    "1) Shot Distance\n",
    "2) Shooter ID\n",
    "3) If the rebound was secured by the offense\n",
    "4) If the shot was blocked"
   ]
  },
  {
   "cell_type": "code",
   "execution_count": 3,
   "metadata": {},
   "outputs": [
    {
     "data": {
      "text/plain": [
       "<matplotlib.axes._subplots.AxesSubplot at 0x1c18cf60>"
      ]
     },
     "execution_count": 3,
     "metadata": {},
     "output_type": "execute_result"
    },
    {
     "data": {
      "image/png": "[encoded data removed]",
      "text/plain": [
       "<matplotlib.figure.Figure at 0xfb82518>"
      ]
     },
     "metadata": {},
     "output_type": "display_data"
    }
   ],
   "source": [
    "# Extract the shot distance from the description fields\n",
    "def shot_distance(row):\n",
    "    if int(row['EVENTMSGTYPE']) == 2: # Missed Field Goal\n",
    "        if int(row['PERSON1TYPE']) == 4: # Home team\n",
    "            try:\n",
    "                dist = int(re.findall(\"(\\d+)\\'\", row['HOMEDESCRIPTION'])[0]) # Get all digits immediately preceding '\n",
    "            except:\n",
    "                dist = None\n",
    "        if int(row['PERSON1TYPE']) == 5: # Visitor team\n",
    "            try:\n",
    "                dist = int(re.findall(\"(\\d+)\\'\", row['VISITORDESCRIPTION'])[0]) # Get all digits immediately preceding '\n",
    "            except:\n",
    "                dist = None\n",
    "        return dist\n",
    "\n",
    "# Get the distance of the shot preceding the rebound\n",
    "def addShotDistToRebounds(row):\n",
    "    if row['EVENTMSGTYPE'] == 2:\n",
    "        return shot_distance(row)\n",
    "    if pbp_df.iloc[row.name-1]['EVENTMSGTYPE'] == 2: # If previous event was a missed FG\n",
    "        return shot_distance(pbp_df.iloc[row.name-1])\n",
    "\n",
    "# Get the ID of the player who took the shot preceding the rebound\n",
    "def addShooterID(row):\n",
    "    prevrow = pbp_df.iloc[row.name-1]\n",
    "    if ((prevrow['EVENTMSGTYPE'] == 2) and\n",
    "       (row['EVENTMSGTYPE'] == 4) and\n",
    "       (row['EVENTMSGACTIONTYPE'] == 0)): # If player rebound is preceded by missed FG\n",
    "        return str(prevrow['PLAYER1_ID'])\n",
    "    \n",
    "# Determine if the team that shot the ball got the rebound\n",
    "def addOffensiveRebounds(row):\n",
    "    prevrow = pbp_df.iloc[row.name-1]\n",
    "    if ((prevrow['EVENTMSGTYPE'] == 2) and\n",
    "       (row['EVENTMSGTYPE'] == 4) and\n",
    "       (row['EVENTMSGACTIONTYPE'] == 0)): # If player rebound is preceded by missed FG\n",
    "        if (((prevrow['PERSON1TYPE'] == 4) and (row['PERSON1TYPE'] == 4)) or\n",
    "           ((prevrow['PERSON1TYPE'] == 5) and (row['PERSON1TYPE'] == 5))): # Same team shot and got the rebound\n",
    "            return True\n",
    "        else:\n",
    "            return False\n",
    "\n",
    "# Determine if the shot preceding the rebound was blocked\n",
    "def addBlock(row):\n",
    "    prevrow = pbp_df.iloc[row.name-1]\n",
    "    if (prevrow['EVENTMSGTYPE'] == 2) and (row['EVENTMSGTYPE'] == 4) and (row['EVENTMSGACTIONTYPE'] == 0): # If player rebound is preceded by missed FG\n",
    "        if ('BLOCK' in str(prevrow['HOMEDESCRIPTION'])) or ('BLOCK' in str(prevrow['VISITORDESCRIPTION'])): # Same team shot and got the rebound\n",
    "            return True\n",
    "        else:\n",
    "            return False\n",
    "        \n",
    "# Combine all of these functions into one function to use for apply\n",
    "def addShotInfo(row):\n",
    "    row['SHOT_DISTANCE'] = addShotDistToRebounds(row)\n",
    "    row['SHOOTER_ID'] = addShooterID(row)\n",
    "    row['OFFENSIVE_REB'] = addOffensiveRebounds(row)\n",
    "    row['BLOCKED_SHOT'] = addBlock(row)\n",
    "    return row\n",
    "\n",
    "# Add new columns\n",
    "all_reb_df = all_reb_df.apply(addShotInfo, axis=1)\n",
    "\n",
    "all_reb_df['SHOT_DISTANCE'].hist(bins = 20)"
   ]
  },
  {
   "cell_type": "raw",
   "metadata": {},
   "source": [
    "The histogram above shows a distribution that we would expect from NBA shooting data, with peaks near the rim and at the 3 point line."
   ]
  },
  {
   "cell_type": "code",
   "execution_count": 4,
   "metadata": {},
   "outputs": [
    {
     "name": "stdout",
     "output_type": "stream",
     "text": [
      "62253 total player rebounds\n",
      "58531 of them were immediately preceded by a missed field goal (12901 offensive, 45630 defensive)\n",
      "Of those 58531 rebounds, 6190 were from blocked shots, 52341 were not\n"
     ]
    }
   ],
   "source": [
    "print(\"{} total player rebounds\".format(\n",
    "    len(all_reb_df),\n",
    "    len(all_reb_df[all_reb_df['OFFENSIVE_REB'] == True]),\n",
    "    len(all_reb_df[all_reb_df['OFFENSIVE_REB'] == False])\n",
    "    ))\n",
    "\n",
    "print(\"{} of them were immediately preceded by a missed field goal ({} offensive, {} defensive)\".format(\n",
    "    all_reb_df['BLOCKED_SHOT'].value_counts().sum(),\n",
    "    len(all_reb_df[all_reb_df['OFFENSIVE_REB'] == True]),\n",
    "    len(all_reb_df[all_reb_df['OFFENSIVE_REB'] == False])\n",
    "    ))\n",
    "\n",
    "print(\"Of those {} rebounds, {} were from blocked shots, {} were not\".format(\n",
    "    all_reb_df['BLOCKED_SHOT'].value_counts().sum(),\n",
    "    all_reb_df['BLOCKED_SHOT'].value_counts()[True],\n",
    "    all_reb_df['BLOCKED_SHOT'].value_counts()[False]\n",
    "    ))"
   ]
  },
  {
   "cell_type": "raw",
   "metadata": {},
   "source": [
    "Now let's filter down to only the rebounds preceded by a missed field goal that was not blocked. Then we can export this data to a CSV so we do not have to run this notebook everytime."
   ]
  },
  {
   "cell_type": "code",
   "execution_count": 5,
   "metadata": {},
   "outputs": [],
   "source": [
    "missfg_reb_df = all_reb_df[all_reb_df['BLOCKED_SHOT'] == False]\n",
    "missfg_reb_df.to_csv('REBS_MissedFG.csv')"
   ]
  }
 ],
 "metadata": {
  "kernelspec": {
   "display_name": "Python 3",
   "language": "python",
   "name": "python3"
  },
  "language_info": {
   "codemirror_mode": {
    "name": "ipython",
    "version": 3
   },
   "file_extension": ".py",
   "mimetype": "text/x-python",
   "name": "python",
   "nbconvert_exporter": "python",
   "pygments_lexer": "ipython3",
   "version": "3.6.3"
  }
 },
 "nbformat": 4,
 "nbformat_minor": 2
}
