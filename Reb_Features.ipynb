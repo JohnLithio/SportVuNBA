{
 "cells": [
  {
   "cell_type": "code",
   "execution_count": 1,
   "metadata": {},
   "outputs": [],
   "source": [
    "import matplotlib.pyplot as plt\n",
    "import numpy as np\n",
    "import pandas as pd\n",
    "import os\n",
    "import re\n",
    "import sys\n",
    "\n",
    "plt.style.use('seaborn')\n",
    "%matplotlib inline\n",
    "\n",
    "up_df = pd.read_csv(r'Snapshot CSVs/Up_Snapshot.csv')\n",
    "rim_df = pd.read_csv(r'Snapshot CSVs/Rim_Snapshot.csv')\n",
    "fall_df = pd.read_csv(r'Snapshot CSVs/Fall_Snapshot.csv')\n",
    "\n",
    "def dropAllDuplicates(df):\n",
    "    duplicates = df.drop(['EVENT_NUM', 'SHOOTER_ID', 'SHOT_DISTANCE', 'SHOT_TIME',\n",
    "                          'OFFENSIVE_REB', 'EVENT_TIME'], axis=1).duplicated(keep=False)\n",
    "    return df[~duplicates]\n",
    "\n",
    "def flipCourt(df):\n",
    "    xlocs = [col for col in df.columns if ('XLOC' in col) and ('PLAYER' in col)]\n",
    "    ylocs = [col for col in df.columns if ('YLOC' in col) and ('PLAYER' in col)]\n",
    "    xvels = [col for col in df.columns if 'XVEL' in col]\n",
    "    yvels = [col for col in df.columns if 'YVEL' in col]\n",
    "    \n",
    "    for i in range(0, len(xlocs)):\n",
    "        df[xlocs[i]] = np.where(rim_df['BALL_XLOC'] > 47,\n",
    "                                94 - df[xlocs[i]],\n",
    "                                df[xlocs[i]])\n",
    "        df[ylocs[i]] = np.where(rim_df['BALL_XLOC'] > 47,\n",
    "                                50 - df[ylocs[i]],\n",
    "                                df[ylocs[i]])\n",
    "        df[xvels[i]] = np.where(rim_df['BALL_XLOC'] > 47,\n",
    "                                -1 * df[xvels[i]],\n",
    "                                df[xvels[i]])\n",
    "        df[yvels[i]] = np.where(rim_df['BALL_XLOC'] > 47,\n",
    "                                -1 * df[yvels[i]],\n",
    "                                df[yvels[i]])\n",
    "    df['BALL_DISTRIM'] = np.where(rim_df['BALL_XLOC'] > 47,\n",
    "                                 df['BALL_DIST_RIM2'],\n",
    "                                 df['BALL_DIST_RIM1'])\n",
    "    df['BALL_YLOC'] = np.where(rim_df['BALL_XLOC'] > 47,\n",
    "                                50 - df['BALL_YLOC'],\n",
    "                                df['BALL_YLOC'])\n",
    "    df['BALL_XLOC'] = np.where(rim_df['BALL_XLOC'] > 47,\n",
    "                                94 - df['BALL_XLOC'],\n",
    "                                df['BALL_XLOC'])\n",
    "    \n",
    "    return df\n",
    "\n",
    "def distToRim(df):\n",
    "    for i in range(1, 11):\n",
    "        col = 'PLAYER{}_{}'\n",
    "        xloc = df[col.format(i, 'XLOC')]\n",
    "        yloc = df[col.format(i, 'YLOC')]\n",
    "        df[col.format(i, 'DISTRIM')] = ((xloc-5.25)**2 + (yloc-25)**2)**.5\n",
    "    return df\n",
    "\n",
    "def distToBall(df):\n",
    "    for i in range(1, 11):\n",
    "        col = 'PLAYER{}_{}'\n",
    "        xloc = df[col.format(i, 'XLOC')]\n",
    "        yloc = df[col.format(i, 'YLOC')]\n",
    "        bx = df['BALL_XLOC']\n",
    "        by = df['BALL_YLOC']\n",
    "        df[col.format(i, 'DISTBALL')] = ((xloc-bx)**2 + (yloc-by)**2)**.5\n",
    "    return df\n",
    "\n",
    "up_df = dropAllDuplicates(up_df)\n",
    "rim_df = dropAllDuplicates(rim_df)\n",
    "fall_df = dropAllDuplicates(fall_df)\n",
    "\n",
    "up_df = flipCourt(up_df)\n",
    "fall_df = flipCourt(fall_df)\n",
    "rim_df = flipCourt(rim_df)\n",
    "\n",
    "up_df = distToRim(up_df)\n",
    "fall_df = distToRim(fall_df)\n",
    "rim_df = distToRim(rim_df)\n",
    "\n",
    "up_df = distToBall(up_df)\n",
    "fall_df = distToBall(fall_df)\n",
    "rim_df = distToBall(rim_df)"
   ]
  },
  {
   "cell_type": "code",
   "execution_count": 2,
   "metadata": {},
   "outputs": [],
   "source": [
    "# Remove non-shots. These are plays that descend to 11 feet farther than 5 feet away\n",
    "goodrows = ((rim_df['BALL_DIST_RIM1'] < 5) | (rim_df['BALL_DIST_RIM2'] < 5))\n",
    "\n",
    "up_df = up_df[goodrows]\n",
    "rim_df = rim_df[goodrows]\n",
    "fall_df = fall_df[goodrows]\n",
    "\n",
    "# Shots outside of 30 feet and rebounds over 20\n",
    "badrows = ((up_df['BALL_DISTRIM'] > 30) | (fall_df['BALL_DISTRIM'] > 25))\n",
    "\n",
    "up_df = up_df[~badrows]\n",
    "rim_df = rim_df[~badrows]\n",
    "fall_df = fall_df[~badrows]"
   ]
  },
  {
   "cell_type": "code",
   "execution_count": 3,
   "metadata": {},
   "outputs": [],
   "source": [
    "teamlist = list(up_df['PLAYER1_TEAMID'].unique())\n",
    "\n",
    "up_df = up_df[~up_df['REBOUNDER_ID'].isin(teamlist)]\n",
    "rim_df = rim_df[~rim_df['REBOUNDER_ID'].isin(teamlist)]\n",
    "fall_df = fall_df[~fall_df['REBOUNDER_ID'].isin(teamlist)]"
   ]
  },
  {
   "cell_type": "raw",
   "metadata": {},
   "source": [
    "The following cell determines if a player is being \"boxed-out\" on a particular play. A player is considered boxed-out if there is another player within 6 feet of the player and that player is within 2 feet of the direct line to the hoop"
   ]
  },
  {
   "cell_type": "code",
   "execution_count": 4,
   "metadata": {},
   "outputs": [],
   "source": [
    "xloc = 'PLAYER{}_{}'\n",
    "yloc = 'PLAYER{}_{}'\n",
    "for i in range(1,11):\n",
    "    xshift = up_df[xloc.format(i,'XLOC')] - 5.25\n",
    "    yshift = up_df[yloc.format(i,'YLOC')] - 25\n",
    "    theta = np.arctan2(yshift, xshift)\n",
    "    \n",
    "    newx = xshift*np.cos(theta) + yshift*np.sin(theta)\n",
    "    newy = -xshift*np.sin(theta) + yshift*np.cos(theta)\n",
    "    \n",
    "    up_df[xloc.format(i,'BOXEDOUT')] = False\n",
    "    \n",
    "    for j in range(1,11):\n",
    "        if i != j:\n",
    "            pxshift = up_df[xloc.format(j,'XLOC')] - 5.25\n",
    "            pyshift = up_df[yloc.format(j,'YLOC')] - 25\n",
    "            \n",
    "            px = pxshift*np.cos(theta) + pyshift*np.sin(theta)\n",
    "            py = -pxshift*np.sin(theta) + pyshift*np.cos(theta)\n",
    "            \n",
    "            up_df[xloc.format(i,'BOXEDOUT')] = (up_df[xloc.format(i,'BOXEDOUT')] |\n",
    "                                                ((0 < newx - px) &\n",
    "                                                (6 > newx - px) &\n",
    "                                                (newx > newx - px) &\n",
    "                                                (np.fabs(py) < np.fabs(px/2)) &\n",
    "                                                (np.fabs(py) < 2)) &\n",
    "                                                (np.fabs((newx-px)) > np.fabs(py)))"
   ]
  },
  {
   "cell_type": "code",
   "execution_count": 5,
   "metadata": {},
   "outputs": [],
   "source": [
    "xloc = 'PLAYER{}_{}'\n",
    "yloc = 'PLAYER{}_{}'\n",
    "bx = fall_df['BALL_XLOC']\n",
    "by = fall_df['BALL_YLOC']\n",
    "\n",
    "for i in range(1,11):\n",
    "    xshift = fall_df[xloc.format(i,'XLOC')] - bx\n",
    "    yshift = fall_df[yloc.format(i,'YLOC')] - by\n",
    "    theta = np.arctan2(yshift, xshift)\n",
    "    \n",
    "    newx = xshift*np.cos(theta) + yshift*np.sin(theta)\n",
    "    newy = -xshift*np.sin(theta) + yshift*np.cos(theta)\n",
    "    \n",
    "    velx = fall_df[xloc.format(i, 'XVEL')]\n",
    "    vely = fall_df[xloc.format(i, 'YVEL')]\n",
    "    \n",
    "    fall_df[xloc.format(i, 'VELRIM')] = -velx*np.cos(theta) - vely*np.sin(theta)\n",
    "    \n",
    "    fall_df[xloc.format(i,'BOXEDOUT')] = False\n",
    "    \n",
    "    for j in range(1,11):\n",
    "        if i != j:\n",
    "            pxshift = fall_df[xloc.format(j,'XLOC')] - bx\n",
    "            pyshift = fall_df[yloc.format(j,'YLOC')] - by\n",
    "            \n",
    "            px = pxshift*np.cos(theta) + pyshift*np.sin(theta)\n",
    "            py = -pxshift*np.sin(theta) + pyshift*np.cos(theta)\n",
    "            \n",
    "            fall_df[xloc.format(i,'BOXEDOUT')] = (fall_df[xloc.format(i,'BOXEDOUT')] |\n",
    "                                                ((0 < newx - px) &\n",
    "                                                (6 > newx - px) &\n",
    "                                                (newx > newx - px) &\n",
    "                                                (np.fabs(py) < np.fabs(px/2)) &\n",
    "                                                (np.fabs(py) < 2)) &\n",
    "                                                (np.fabs((newx-px)) > np.fabs(py)))"
   ]
  },
  {
   "cell_type": "code",
   "execution_count": 6,
   "metadata": {},
   "outputs": [],
   "source": [
    "# Sums of number of boxed out players for each team\n",
    "up_df['OFF_BOXEDOUT'] = up_df[['PLAYER1_BOXEDOUT', 'PLAYER2_BOXEDOUT',\n",
    "                               'PLAYER3_BOXEDOUT', 'PLAYER4_BOXEDOUT',\n",
    "                               'PLAYER5_BOXEDOUT']].sum(axis=1)\n",
    "up_df['DEF_BOXEDOUT'] = up_df[['PLAYER6_BOXEDOUT', 'PLAYER7_BOXEDOUT',\n",
    "                               'PLAYER8_BOXEDOUT', 'PLAYER9_BOXEDOUT',\n",
    "                               'PLAYER10_BOXEDOUT']].sum(axis=1)\n",
    "\n",
    "fall_df['OFF_BOXEDOUT'] = fall_df[['PLAYER1_BOXEDOUT', 'PLAYER2_BOXEDOUT',\n",
    "                               'PLAYER3_BOXEDOUT', 'PLAYER4_BOXEDOUT',\n",
    "                               'PLAYER5_BOXEDOUT']].sum(axis=1)\n",
    "fall_df['DEF_BOXEDOUT'] = fall_df[['PLAYER6_BOXEDOUT', 'PLAYER7_BOXEDOUT',\n",
    "                               'PLAYER8_BOXEDOUT', 'PLAYER9_BOXEDOUT',\n",
    "                               'PLAYER10_BOXEDOUT']].sum(axis=1)"
   ]
  },
  {
   "cell_type": "code",
   "execution_count": 7,
   "metadata": {},
   "outputs": [
    {
     "name": "stdout",
     "output_type": "stream",
     "text": [
      "Rebounder: PLAYER3\n",
      "PLAYER1_BOXEDOUT      True\n",
      "PLAYER2_BOXEDOUT      True\n",
      "PLAYER3_BOXEDOUT     False\n",
      "PLAYER4_BOXEDOUT     False\n",
      "PLAYER5_BOXEDOUT      True\n",
      "PLAYER6_BOXEDOUT     False\n",
      "PLAYER7_BOXEDOUT     False\n",
      "PLAYER8_BOXEDOUT      True\n",
      "PLAYER9_BOXEDOUT     False\n",
      "PLAYER10_BOXEDOUT    False\n",
      "OFF_BOXEDOUT             3\n",
      "DEF_BOXEDOUT             1\n",
      "Name: 115, dtype: object\n"
     ]
    },
    {
     "data": {
      "image/png": "[encoded data removed]",
      "text/plain": [
       "<matplotlib.figure.Figure at 0x5924828>"
      ]
     },
     "metadata": {},
     "output_type": "display_data"
    }
   ],
   "source": [
    "def plotPlay(df, i, suf):\n",
    "    court = plt.imread(\"fullcourt.png\")\n",
    "    plt.imshow(court, zorder = 0, extent=[0,94,50,0])\n",
    "    col = 'PLAYER{}_{}LOC'\n",
    "    row = df.iloc[i]\n",
    "    \n",
    "    for j in range(1,11):\n",
    "        x = col.format(j, 'X')\n",
    "        y = col.format(j, 'Y')\n",
    "        if j <= 5:\n",
    "            c = 'blue'\n",
    "        else:\n",
    "            c = 'red'\n",
    "        plt.scatter(row[x], row[y], c = c)\n",
    "        plt.text(row[x]+1, row[y]+1, 'P'+str(j))\n",
    "\n",
    "    plt.scatter(row['BALL_XLOC'], row['BALL_YLOC'], c = 'green')\n",
    "#     plt.scatter(row['BALL_XLOC_FALL'], row['BALL_YLOC_FALL'], c = 'green')\n",
    "    \n",
    "#     plt.text(row['PLAYER1_XLOC'+suf], row['PLAYER1_YLOC'+suf], 'P1')\n",
    "    \n",
    "    if row['OFFENSIVE_REB'] == 1:\n",
    "        txt = 'OFF'\n",
    "        col = 'blue'\n",
    "    else:\n",
    "        txt = 'DEF'\n",
    "        col = 'red'\n",
    "    plt.text(47, 7, txt, fontsize=20, horizontalalignment='center',\n",
    "             bbox=dict(facecolor=col, alpha=0.2))\n",
    "    \n",
    "n = 100\n",
    "\n",
    "id_cols = [col for col in up_df.columns if '_ID' in col]\n",
    "b = (up_df.iloc[n][id_cols] == up_df.iloc[n]['REBOUNDER_ID'])\n",
    "print('Rebounder: {}'.format(b[b==True].index[0][:-3]))\n",
    "\n",
    "box_cols = [col for col in up_df.columns if 'BOXEDOUT' in col]\n",
    "print(up_df.iloc[n][box_cols])\n",
    "\n",
    "plotPlay(up_df, n, '_FALL')"
   ]
  },
  {
   "cell_type": "raw",
   "metadata": {},
   "source": [
    "Try these columns:\n",
    "- Dist to rim for all players (10)\n",
    "- Predicted rebound length (1)\n",
    "    - Need BALL_DISTRIM from up and fall\n",
    "- Boxed out for all players (10)\n",
    "- X and Y vels for all players (20)\n",
    "- Which player got the rebound"
   ]
  },
  {
   "cell_type": "code",
   "execution_count": 8,
   "metadata": {},
   "outputs": [],
   "source": [
    "# dist_cols = [col for col in up_df.columns if ('DISTRIM' in col) and ('PLAYER' in col)]\n",
    "dist_cols = [col for col in fall_df.columns if ('DISTBALL' in col) and ('PLAYER' in col)]\n",
    "box_cols = [col for col in fall_df.columns if ('BOXEDOUT' in col) and ('PLAYER' in col)]\n",
    "vel_cols = [col for col in fall_df.columns if ('VELRIM' in col) and ('PLAYER' in col)]"
   ]
  },
  {
   "cell_type": "raw",
   "metadata": {},
   "source": [
    "The following cell gets the player number of the rebounder (PLAYER1, PLAYER2, etc.)\n",
    "That is then used to find the distance of the rebounder from the rim when the shot went up."
   ]
  },
  {
   "cell_type": "code",
   "execution_count": 9,
   "metadata": {},
   "outputs": [],
   "source": [
    "id_cols = [col for col in fall_df.columns if ('_ID' in col) and ('PLAYER' in col)]\n",
    "rebid = np.repeat(fall_df['REBOUNDER_ID'].values.reshape(len(fall_df), 1),\n",
    "                  len(id_cols), axis = 1)\n",
    "fall_df['REBOUNDER_NUM'] = fall_df[id_cols].where(fall_df[id_cols] == rebid, 0).idxmax(axis=1)\n",
    "fall_df['REBOUNDER_NUM'] = fall_df['REBOUNDER_NUM'].str[:-3] + '_DISTBALL'\n",
    "fall_df['REBOUNDER_BOXCOL'] = fall_df['REBOUNDER_NUM'].str[:-9] + '_BOXEDOUT'\n",
    "fall_df['REBOUNDER_DISTBALL'] = fall_df.lookup(fall_df['REBOUNDER_NUM'].index,\n",
    "                                               fall_df['REBOUNDER_NUM'].values)\n",
    "fall_df['REBOUNDER_BOXEDOUT'] = fall_df.lookup(fall_df['REBOUNDER_BOXCOL'].index,\n",
    "                                               fall_df['REBOUNDER_BOXCOL'].values)"
   ]
  },
  {
   "cell_type": "raw",
   "metadata": {},
   "source": [
    "The distance is then used to find what rank the rebounder was in terms of proximity to the rim (0 = closest, 9 = most distant)"
   ]
  },
  {
   "cell_type": "code",
   "execution_count": 10,
   "metadata": {},
   "outputs": [],
   "source": [
    "vals = fall_df['REBOUNDER_DISTBALL'].values\n",
    "newvals = np.repeat(vals.reshape(len(vals),1), len(dist_cols), axis = 1)\n",
    "fall_df['REBOUNDER_POS'] = np.where(newvals > fall_df[dist_cols], True, False).sum(axis=1)"
   ]
  },
  {
   "cell_type": "code",
   "execution_count": 11,
   "metadata": {},
   "outputs": [],
   "source": [
    "data = fall_df[dist_cols+box_cols+vel_cols].copy()"
   ]
  },
  {
   "cell_type": "raw",
   "metadata": {},
   "source": [
    "Now we must reorder the columns so that the closest player's attributes are first and the most distant player's attributes are last. Since we need to know the info about the column names so we can move all columns associated with that player, we cannot just do a sort on the values of the dataframe."
   ]
  },
  {
   "cell_type": "code",
   "execution_count": 12,
   "metadata": {},
   "outputs": [],
   "source": [
    "all_vals = np.empty([0,len(data.columns)])\n",
    "for i, row in data.iterrows():\n",
    "    col_order = list(row[dist_cols].sort_values().index)\n",
    "    col_order = [re.findall('\\d+', col)[0] for col in col_order]\n",
    "    off_order = [x for x in col_order if int(x) <= 5]\n",
    "    def_order = [x for x in col_order if int(x) > 5]\n",
    "    player_cols = 'PLAYER{0}_DISTBALL PLAYER{0}_BOXEDOUT PLAYER{0}_VELRIM '\n",
    "    row_order = ''\n",
    "    # Put offense in first 5 columns, defense in last 5\n",
    "    for p in off_order:\n",
    "        row_order = row_order + player_cols.format(p)\n",
    "    for p in def_order:\n",
    "        row_order = row_order + player_cols.format(p)\n",
    "    all_vals = np.append(all_vals, row[row_order.split()].\n",
    "                         values.reshape(1,len(data.columns)), axis=0)\n",
    "    \n",
    "# Get columns for final data frame. Just players 1-10 where 1 is the closest to hoop\n",
    "data_cols = ''\n",
    "for i in range(1, 11):\n",
    "    data_cols = data_cols + player_cols.format(i)\n",
    "\n",
    "data = pd.DataFrame(all_vals, columns = data_cols.split())\n"
   ]
  },
  {
   "cell_type": "code",
   "execution_count": 13,
   "metadata": {},
   "outputs": [],
   "source": [
    "# data['BALL_DISTRIM_UP'] = up_df['BALL_DISTRIM'].values\n",
    "# data['BALL_DISTRIM_FALL'] = fall_df['BALL_DISTRIM'].values\n",
    "# data['REBOUNDER'] = up_df['REBOUNDER_POS'].values\n",
    "data['OFF_BOXEDOUT'] = fall_df['OFF_BOXEDOUT'].values\n",
    "data['DEF_BOXEDOUT'] = fall_df['DEF_BOXEDOUT'].values\n",
    "data['REBOUNDER'] = fall_df['OFFENSIVE_REB'].values\n",
    "data.to_csv('Rebound_Features.csv', index=False)"
   ]
  },
  {
   "cell_type": "code",
   "execution_count": 14,
   "metadata": {},
   "outputs": [],
   "source": [
    "# from imblearn.over_sampling import RandomOverSampler\n",
    "\n",
    "# X = outdf.drop('Off_Reb', axis = 1)\n",
    "# y = outdf['Off_Reb']\n",
    "\n",
    "# ros = RandomOverSampler(random_state=0)\n",
    "# X_resampled, y_resampled = ros.fit_sample(X, y)\n",
    "\n",
    "# # Train/test split\n",
    "# X_train, X_test, y_train, y_test = train_test_split(X, y,\n",
    "#                                                     test_size=0.3, random_state=0)\n",
    "# model2 = GradientBoostingClassifier(n_estimators=100, learning_rate=1.0,\n",
    "#                                     max_depth=1, random_state=0)\n",
    "# model2.fit(X_train, y_train)\n",
    "# predicted = model2.predict(X_test)\n",
    "# print(model2.score(X_test, y_test))\n",
    "# print(metrics.confusion_matrix(y_test, predicted))"
   ]
  },
  {
   "cell_type": "raw",
   "metadata": {},
   "source": [
    "Following cell uses linear regression to predict rebound length"
   ]
  },
  {
   "cell_type": "code",
   "execution_count": 15,
   "metadata": {},
   "outputs": [],
   "source": [
    "# from sklearn import linear_model\n",
    "\n",
    "# def rebLength(X):\n",
    "#     tempX = X['BALL_DISTRIM_UP'].values.reshape(-1,1)\n",
    "#     tempy = X['BALL_DISTRIM_FALL']\n",
    "#     model = linear_model.LinearRegression()\n",
    "#     model.fit(tempX, tempy)\n",
    "#     y_pred = model.predict(tempX)\n",
    "#     return y_pred"
   ]
  },
  {
   "cell_type": "raw",
   "metadata": {},
   "source": [
    "Need to create new features:\n",
    "1) Is anyone between player and the ball? - DONE\n",
    "2) velocity (x and y) - DONE\n",
    "3) velocity (relative to rim/ball)\n",
    "4) Height"
   ]
  },
  {
   "cell_type": "code",
   "execution_count": 16,
   "metadata": {},
   "outputs": [],
   "source": [
    "# import time\n",
    "# from sklearn.linear_model import LogisticRegression\n",
    "# from sklearn.svm import SVC\n",
    "# from sklearn.neighbors import KNeighborsClassifier as KNN\n",
    "# from sklearn.ensemble import GradientBoostingClassifier\n",
    "# from sklearn.neural_network import MLPClassifier\n",
    "# from sklearn.cross_validation import train_test_split\n",
    "# from sklearn import metrics\n",
    "# from sklearn.cross_validation import cross_val_score\n",
    "# from sklearn.model_selection import GridSearchCV\n",
    "\n",
    "# X = outdf.drop('Player_Num', axis = 1)\n",
    "# y = outdf['Player_Num']\n",
    "# X_train, X_test, y_train, y_test = train_test_split(X, y, test_size=0.3, random_state=0)\n",
    "# t0 = time.time()\n",
    "# # No data split\n",
    "# model = KNN(n_neighbors=3)\n",
    "# model.fit(X_train, y_train)\n",
    "# predicted = model.predict(X_test)\n",
    "# # print(metrics.precision_score(y_test, predicted))\n",
    "# # print(metrics.recall_score(y_test, predicted))\n",
    "# print(metrics.confusion_matrix(y_test, predicted))\n",
    "# t1 = time.time()\n",
    "# print (t1 - t0)"
   ]
  },
  {
   "cell_type": "code",
   "execution_count": 17,
   "metadata": {},
   "outputs": [],
   "source": [
    "# parameters = {'n_neighbors': range(1,100)}\n",
    "# knn = KNN()\n",
    "# knnmodel = GridSearchCV(knn, parameters)\n",
    "# knnmodel.fit(X_train, y_train)"
   ]
  },
  {
   "cell_type": "code",
   "execution_count": 18,
   "metadata": {},
   "outputs": [],
   "source": [
    "# pd.DataFrame(list(zip(X.columns, [x[0] for x in np.transpose(model.coef_)])))"
   ]
  },
  {
   "cell_type": "code",
   "execution_count": 19,
   "metadata": {},
   "outputs": [],
   "source": [
    "# Train/test split\n",
    "# X_train, X_test, y_train, y_test = train_test_split(X, y, test_size=0.3, random_state=0)\n",
    "# model2 = GradientBoostingClassifier(n_estimators=100, learning_rate=1.0,\n",
    "#                                     max_depth=1, random_state=0)\n",
    "# model2.fit(X_train, y_train)\n",
    "# predicted = model2.predict(X_test)\n",
    "# print(metrics.confusion_matrix(y_test, predicted))"
   ]
  },
  {
   "cell_type": "code",
   "execution_count": 20,
   "metadata": {},
   "outputs": [],
   "source": [
    "# Cross-validation\n",
    "# t0 = time.time()\n",
    "# scores = cross_val_score(KNN(n_neighbors=30), X, y, scoring='accuracy', cv=10)\n",
    "# print(scores.mean())\n",
    "# t1 = time.time()\n",
    "# print(t1 - t0)"
   ]
  },
  {
   "cell_type": "raw",
   "metadata": {},
   "source": [
    "The following code visualizes a snapshot given a GAME_ID and EVENT_NUM"
   ]
  },
  {
   "cell_type": "code",
   "execution_count": 21,
   "metadata": {},
   "outputs": [],
   "source": [
    "# Cross-validation\n",
    "# t0 = time.time()\n",
    "# scores = cross_val_score(GradientBoostingClassifier(n_estimators=100,\n",
    "#                                                     learning_rate=1.0,\n",
    "#                                                     max_depth=1,\n",
    "#                                                     random_state=0),\n",
    "#                          X_resampled, y_resampled, scoring='accuracy', cv=10)\n",
    "# print(scores.mean())\n",
    "# t1 = time.time()\n",
    "# print(t1 - t0)"
   ]
  }
 ],
 "metadata": {
  "kernelspec": {
   "display_name": "Python 3",
   "language": "python",
   "name": "python3"
  },
  "language_info": {
   "codemirror_mode": {
    "name": "ipython",
    "version": 3
   },
   "file_extension": ".py",
   "mimetype": "text/x-python",
   "name": "python",
   "nbconvert_exporter": "python",
   "pygments_lexer": "ipython3",
   "version": "3.6.3"
  }
 },
 "nbformat": 4,
 "nbformat_minor": 2
}
