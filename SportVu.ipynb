{
 "cells": [
  {
   "cell_type": "raw",
   "metadata": {},
   "source": [
    "Create some basic functions for dealing with the play-by-play and SportVu data"
   ]
  },
  {
   "cell_type": "code",
   "execution_count": 1,
   "metadata": {},
   "outputs": [],
   "source": [
    "import matplotlib.pyplot as plt\n",
    "import pandas as pd\n",
    "import re\n",
    "from os import walk\n",
    "from os.path import join\n",
    "\n",
    "plt.style.use('seaborn')\n",
    "%matplotlib inline\n",
    "\n",
    "pbp_dir = 'Play By Play Data'\n",
    "sv_dir = 'SportVu CSVs'\n",
    "\n",
    "# Get a list of all the files in the top level of a directory\n",
    "def fileList(directory):\n",
    "    f = []\n",
    "    for (dirpath, dirnames, filenames) in walk(directory):\n",
    "        f.extend(filenames)\n",
    "        break\n",
    "    \n",
    "    return f\n",
    "\n",
    "# Merge data from a single game into a dataframe, keeping only rows that have matching event IDs\n",
    "def mergeSVtoPBP(filename):\n",
    "    sv = pd.read_csv(join(sv_dir, filename))\n",
    "    pbp = pd.read_csv(join(pbp_dir, filename))\n",
    "    pbp = pbp[['EVENTNUM', 'GAME_ID', 'EVENTMSGTYPE_DESCRIPTION', 'EVENTMSGACTIONTYPE_DESCRIPTION']]\n",
    "    df = pd.merge(sv, pbp, how='inner', left_on = 'event.id', right_on = 'EVENTNUM')\n",
    "    \n",
    "    return df\n",
    "\n",
    "# Compile all CSV files from a directory into a single dataframe\n",
    "def dfFromDirectory(directory):\n",
    "    pbplist = fileList(directory)\n",
    "    pbp_df = pd.DataFrame()\n",
    "    for f in pbplist:\n",
    "        if f[-3:].upper() == 'CSV':\n",
    "            df = pd.read_csv(join(directory, f))\n",
    "            pbp_df = pbp_df.append(df, ignore_index=True)\n",
    "        \n",
    "    return pbp_df\n",
    "\n",
    "# Filter the Play By Play dataframe by event. Context = True will include the 2 plays before and after the event\n",
    "def filterByEvent(pbp_df, e1, e2 = -1, context = False):\n",
    "    if e2 > -1:\n",
    "        idx_list = pbp_df.index[(pbp_df['EVENTMSGTYPE'] == e1) & (pbp_df['EVENTMSGACTIONTYPE'] == e2)].tolist()\n",
    "    else:\n",
    "        idx_list = pbp_df.index[pbp_df['EVENTMSGTYPE'] == e1].tolist()\n",
    "    if context:\n",
    "        filter_idx = []\n",
    "        for idx in idx_list:\n",
    "            filter_idx.extend([idx-2, idx-1, idx, idx+1, idx+2])\n",
    "    else:\n",
    "        filter_idx = idx_list\n",
    "    play_df = pbp_df.iloc[filter_idx]\n",
    "    \n",
    "    return play_df"
   ]
  },
  {
   "cell_type": "raw",
   "metadata": {},
   "source": [
    "Compile all of the play-by-play data into one dataframe"
   ]
  },
  {
   "cell_type": "code",
   "execution_count": 2,
   "metadata": {},
   "outputs": [],
   "source": [
    "pbp_df = dfFromDirectory(pbp_dir)"
   ]
  },
  {
   "cell_type": "raw",
   "metadata": {},
   "source": [
    "Rebounds are EVENTMSGTYPE 4 and player rebounds are EVENTMSGACTIONTYPE 0.\n",
    "Missed field goals are EVENTMSGTYPE 2"
   ]
  },
  {
   "cell_type": "raw",
   "metadata": {},
   "source": [
    "Before we filter our data into rebounds, let's add a few columns. We need to get only those rebounds resulting from a field goal attempt attempted from x feet away. So first let's add a column for shot distance on missed field goals."
   ]
  },
  {
   "cell_type": "code",
   "execution_count": 3,
   "metadata": {},
   "outputs": [
    {
     "data": {
      "text/plain": [
       "<matplotlib.axes._subplots.AxesSubplot at 0xdca3d68>"
      ]
     },
     "execution_count": 3,
     "metadata": {},
     "output_type": "execute_result"
    },
    {
     "data": {
      "image/png": "[encoded data removed]",
      "text/plain": [
       "<matplotlib.figure.Figure at 0xe39ccf8>"
      ]
     },
     "metadata": {},
     "output_type": "display_data"
    }
   ],
   "source": [
    "def shot_distance(row):\n",
    "    if int(row['EVENTMSGTYPE']) == 2: # Missed Field Goal\n",
    "        if int(row['PERSON1TYPE']) == 4: # Home team\n",
    "            try:\n",
    "                dist = int(re.findall(\"(\\d+)\\'\", row['HOMEDESCRIPTION'])[0]) # Get all digits immediately preceding '\n",
    "            except:\n",
    "                dist = None\n",
    "        if int(row['PERSON1TYPE']) == 5: # Visitor team\n",
    "            try:\n",
    "                dist = int(re.findall(\"(\\d+)\\'\", row['VISITORDESCRIPTION'])[0]) # Get all digits immediately preceding '\n",
    "            except:\n",
    "                dist = None\n",
    "        return dist\n",
    "    \n",
    "pbp_df['SHOT_DISTANCE'] = pbp_df.apply(lambda x: shot_distance(x), axis = 1)\n",
    "pbp_df['SHOT_DISTANCE'].hist(bins = 20)"
   ]
  },
  {
   "cell_type": "raw",
   "metadata": {},
   "source": [
    "The histogram above shows that the shot distances we've found align with what we'd expect from an NBA shot distribution with peaks close to the rim and at the 3-point line.\n",
    "\n",
    "Now we need to match each rebound with the shot that preceded it. Let's first assume that a shot was always the event immediately preceding the rebound. So let's get a count of how many player rebounds there are total and how many there are that were immediately preceded by a field goal or free throw. Let's also remove those shots that were blocked."
   ]
  },
  {
   "cell_type": "code",
   "execution_count": 20,
   "metadata": {},
   "outputs": [
    {
     "name": "stdout",
     "output_type": "stream",
     "text": [
      "62253 total player rebounds\n",
      "58531 total player rebounds immediately preceded by a missed field goal\n"
     ]
    }
   ],
   "source": [
    "def getOnlyIfPreviousEvent(pbp_df, e1, e3, e2 = -1):\n",
    "    if e2 > -1:\n",
    "        idx_list = pbp_df.index[(pbp_df['EVENTMSGTYPE'] == e1) & (pbp_df['EVENTMSGACTIONTYPE'] == e2)].tolist()\n",
    "    else:\n",
    "        idx_list = pbp_df.index[pbp_df['EVENTMSGTYPE'] == e1].tolist()\n",
    "        \n",
    "    filter_idx = []\n",
    "    for idx in idx_list:\n",
    "        if pbp_df.iloc[idx-1]['EVENTMSGTYPE'] == e3:\n",
    "            filter_idx.extend([idx])\n",
    "        \n",
    "    play_df = pbp_df.iloc[filter_idx]\n",
    "    \n",
    "    return play_df\n",
    "\n",
    "all_reb_df = filterByEvent(pbp_df, 4, 0) # Get all player rebounds\n",
    "missfg_reb_df = getOnlyIfPreviousEvent(pbp_df, e1 = 4, e2 = 0, e3 = 2) # Get player rebounds preceded by missed FG\n",
    "print(\"{} total player rebounds\".format(len(all_reb_df)))\n",
    "print(\"{} total player rebounds immediately preceded by a missed field goal\".format(len(missfg_reb_df)))"
   ]
  },
  {
   "cell_type": "raw",
   "metadata": {},
   "source": [
    "Let's add a column that has\n",
    "1) True if the row is a player rebound that was immediately preceded by a blocked shot\n",
    "2) False if the row is a player rebound that was immediately preceded by a missed FG that was not blocked\n",
    "3) None if the row was not a player rebound immediately preceded by a missed FG"
   ]
  },
  {
   "cell_type": "code",
   "execution_count": 31,
   "metadata": {},
   "outputs": [
    {
     "name": "stdout",
     "output_type": "stream",
     "text": [
      "62253 total player rebounds\n",
      "58531 total player rebounds immediately preceded by a missed field goal\n",
      "False    52341\n",
      "True      6190\n",
      "Name: BLOCKED_SHOT, dtype: int64\n"
     ]
    }
   ],
   "source": [
    "\n",
    "def addBlock(row):\n",
    "    prevrow = pbp_df.iloc[row.name-1]\n",
    "    if (prevrow['EVENTMSGTYPE'] == 2) and (row['EVENTMSGTYPE'] == 4) and (row['EVENTMSGACTIONTYPE'] == 0): # If player rebound is preceded by missed FG\n",
    "        if ('BLOCK' in str(prevrow['HOMEDESCRIPTION'])) or ('BLOCK' in str(prevrow['VISITORDESCRIPTION'])): # Same team shot and got the rebound\n",
    "            return True\n",
    "        else:\n",
    "            return False\n",
    "        \n",
    "pbp_df['BLOCKED_SHOT'] = pbp_df.apply(lambda x: addBlock(x), axis = 1)"
   ]
  },
  {
   "cell_type": "code",
   "execution_count": 38,
   "metadata": {},
   "outputs": [
    {
     "name": "stdout",
     "output_type": "stream",
     "text": [
      "62253 total player rebounds\n",
      "58531 total player rebounds immediately preceded by a missed field goal\n",
      "Of those 58531 rebounds, 6190 were from blocked shots, 52341 were not\n"
     ]
    }
   ],
   "source": [
    "print(\"{} total player rebounds\".format(len(all_reb_df)))\n",
    "print(\"{} total player rebounds immediately preceded by a missed field goal\".format(len(missfg_reb_df)))\n",
    "print(\"Of those {} rebounds, {} were from blocked shots, {} were not\".format(\n",
    "    len(missfg_reb_df),\n",
    "    pbp_df['BLOCKED_SHOT'].value_counts()[True],\n",
    "    pbp_df['BLOCKED_SHOT'].value_counts()[False]))"
   ]
  },
  {
   "cell_type": "raw",
   "metadata": {},
   "source": [
    "Now we can add a few columns to our rebound data:\n",
    "1) Shot distance\n",
    "2) Offensive/Defensive Rebound\n",
    "3) Shooter Name\n",
    "4) Shooter ID\n",
    "5) Shooter Home/Away Team (PERSON1TYPE)"
   ]
  },
  {
   "cell_type": "code",
   "execution_count": 5,
   "metadata": {},
   "outputs": [],
   "source": [
    "def addShotDistToRebounds(row):\n",
    "    if row['SHOT_DISTANCE'] >= 0:\n",
    "        return row['SHOT_DISTANCE']\n",
    "    if pbp_df.iloc[row.name-1]['EVENTMSGTYPE'] == 2: # If previous event was a missed FG\n",
    "        return pbp_df.iloc[row.name-1]['SHOT_DISTANCE']\n",
    "\n",
    "pbp_df['SHOT_DISTANCE'] = pbp_df.apply(lambda x: addShotDistToRebounds(x), axis = 1)"
   ]
  },
  {
   "cell_type": "code",
   "execution_count": 6,
   "metadata": {},
   "outputs": [
    {
     "data": {
      "text/plain": [
       "False    45630\n",
       "True     12901\n",
       "Name: OFF_REB, dtype: int64"
      ]
     },
     "execution_count": 6,
     "metadata": {},
     "output_type": "execute_result"
    }
   ],
   "source": [
    "def addOffensiveRebounds(row):\n",
    "    prevrow = pbp_df.iloc[row.name-1]\n",
    "    if (prevrow['EVENTMSGTYPE'] == 2) and (row['EVENTMSGTYPE'] == 4) and (row['EVENTMSGACTIONTYPE'] == 0): # If player rebound is preceded by missed FG\n",
    "        if (((prevrow['PERSON1TYPE'] == 4) and (row['PERSON1TYPE'] == 4)) or\n",
    "           ((prevrow['PERSON1TYPE'] == 5) and (row['PERSON1TYPE'] == 5))): # Same team shot and got the rebound\n",
    "            return True\n",
    "        else:\n",
    "            return False\n",
    "        \n",
    "pbp_df['OFF_REB'] = pbp_df.apply(lambda x: addOffensiveRebounds(x), axis = 1)\n",
    "pbp_df['OFF_REB'].value_counts()"
   ]
  },
  {
   "cell_type": "raw",
   "metadata": {},
   "source": [
    "Now let's filter down to only the rebounds preceded by a missed field goal."
   ]
  },
  {
   "cell_type": "code",
   "execution_count": 7,
   "metadata": {},
   "outputs": [
    {
     "data": {
      "text/html": [
       "<div>\n",
       "<style>\n",
       "    .dataframe thead tr:only-child th {\n",
       "        text-align: right;\n",
       "    }\n",
       "\n",
       "    .dataframe thead th {\n",
       "        text-align: left;\n",
       "    }\n",
       "\n",
       "    .dataframe tbody tr th {\n",
       "        vertical-align: top;\n",
       "    }\n",
       "</style>\n",
       "<table border=\"1\" class=\"dataframe\">\n",
       "  <thead>\n",
       "    <tr style=\"text-align: right;\">\n",
       "      <th></th>\n",
       "      <th>GAME_ID</th>\n",
       "      <th>EVENTNUM</th>\n",
       "      <th>EVENTMSGTYPE</th>\n",
       "      <th>EVENTMSGACTIONTYPE</th>\n",
       "      <th>PERIOD</th>\n",
       "      <th>WCTIMESTRING</th>\n",
       "      <th>PCTIMESTRING</th>\n",
       "      <th>HOMEDESCRIPTION</th>\n",
       "      <th>NEUTRALDESCRIPTION</th>\n",
       "      <th>VISITORDESCRIPTION</th>\n",
       "      <th>...</th>\n",
       "      <th>PLAYER3_ID</th>\n",
       "      <th>PLAYER3_NAME</th>\n",
       "      <th>PLAYER3_TEAM_ID</th>\n",
       "      <th>PLAYER3_TEAM_CITY</th>\n",
       "      <th>PLAYER3_TEAM_NICKNAME</th>\n",
       "      <th>PLAYER3_TEAM_ABBREVIATION</th>\n",
       "      <th>EVENTMSGTYPE_DESCRIPTION</th>\n",
       "      <th>EVENTMSGACTIONTYPE_DESCRIPTION</th>\n",
       "      <th>SHOT_DISTANCE</th>\n",
       "      <th>OFF_REB</th>\n",
       "    </tr>\n",
       "  </thead>\n",
       "  <tbody>\n",
       "    <tr>\n",
       "      <th>3</th>\n",
       "      <td>21500001</td>\n",
       "      <td>3</td>\n",
       "      <td>4</td>\n",
       "      <td>0</td>\n",
       "      <td>1</td>\n",
       "      <td>8:13 PM</td>\n",
       "      <td>11:39</td>\n",
       "      <td>Bazemore REBOUND (Off:0 Def:1)</td>\n",
       "      <td>NaN</td>\n",
       "      <td>NaN</td>\n",
       "      <td>...</td>\n",
       "      <td>0</td>\n",
       "      <td>NaN</td>\n",
       "      <td>NaN</td>\n",
       "      <td>NaN</td>\n",
       "      <td>NaN</td>\n",
       "      <td>NaN</td>\n",
       "      <td>Rebound</td>\n",
       "      <td>Player Rebound</td>\n",
       "      <td>2.0</td>\n",
       "      <td>False</td>\n",
       "    </tr>\n",
       "    <tr>\n",
       "      <th>9</th>\n",
       "      <td>21500001</td>\n",
       "      <td>9</td>\n",
       "      <td>4</td>\n",
       "      <td>0</td>\n",
       "      <td>1</td>\n",
       "      <td>8:14 PM</td>\n",
       "      <td>10:25</td>\n",
       "      <td>NaN</td>\n",
       "      <td>NaN</td>\n",
       "      <td>Jackson REBOUND (Off:0 Def:1)</td>\n",
       "      <td>...</td>\n",
       "      <td>0</td>\n",
       "      <td>NaN</td>\n",
       "      <td>NaN</td>\n",
       "      <td>NaN</td>\n",
       "      <td>NaN</td>\n",
       "      <td>NaN</td>\n",
       "      <td>Rebound</td>\n",
       "      <td>Player Rebound</td>\n",
       "      <td>20.0</td>\n",
       "      <td>False</td>\n",
       "    </tr>\n",
       "    <tr>\n",
       "      <th>11</th>\n",
       "      <td>21500001</td>\n",
       "      <td>11</td>\n",
       "      <td>4</td>\n",
       "      <td>0</td>\n",
       "      <td>1</td>\n",
       "      <td>8:14 PM</td>\n",
       "      <td>10:11</td>\n",
       "      <td>Bazemore REBOUND (Off:0 Def:2)</td>\n",
       "      <td>NaN</td>\n",
       "      <td>NaN</td>\n",
       "      <td>...</td>\n",
       "      <td>0</td>\n",
       "      <td>NaN</td>\n",
       "      <td>NaN</td>\n",
       "      <td>NaN</td>\n",
       "      <td>NaN</td>\n",
       "      <td>NaN</td>\n",
       "      <td>Rebound</td>\n",
       "      <td>Player Rebound</td>\n",
       "      <td>8.0</td>\n",
       "      <td>False</td>\n",
       "    </tr>\n",
       "    <tr>\n",
       "      <th>18</th>\n",
       "      <td>21500001</td>\n",
       "      <td>21</td>\n",
       "      <td>4</td>\n",
       "      <td>0</td>\n",
       "      <td>1</td>\n",
       "      <td>8:16 PM</td>\n",
       "      <td>9:28</td>\n",
       "      <td>NaN</td>\n",
       "      <td>NaN</td>\n",
       "      <td>Drummond REBOUND (Off:0 Def:1)</td>\n",
       "      <td>...</td>\n",
       "      <td>0</td>\n",
       "      <td>NaN</td>\n",
       "      <td>NaN</td>\n",
       "      <td>NaN</td>\n",
       "      <td>NaN</td>\n",
       "      <td>NaN</td>\n",
       "      <td>Rebound</td>\n",
       "      <td>Player Rebound</td>\n",
       "      <td>15.0</td>\n",
       "      <td>False</td>\n",
       "    </tr>\n",
       "    <tr>\n",
       "      <th>21</th>\n",
       "      <td>21500001</td>\n",
       "      <td>24</td>\n",
       "      <td>4</td>\n",
       "      <td>0</td>\n",
       "      <td>1</td>\n",
       "      <td>8:16 PM</td>\n",
       "      <td>9:11</td>\n",
       "      <td>NaN</td>\n",
       "      <td>NaN</td>\n",
       "      <td>Drummond REBOUND (Off:0 Def:2)</td>\n",
       "      <td>...</td>\n",
       "      <td>0</td>\n",
       "      <td>NaN</td>\n",
       "      <td>NaN</td>\n",
       "      <td>NaN</td>\n",
       "      <td>NaN</td>\n",
       "      <td>NaN</td>\n",
       "      <td>Rebound</td>\n",
       "      <td>Player Rebound</td>\n",
       "      <td>1.0</td>\n",
       "      <td>False</td>\n",
       "    </tr>\n",
       "  </tbody>\n",
       "</table>\n",
       "<p>5 rows × 37 columns</p>\n",
       "</div>"
      ],
      "text/plain": [
       "     GAME_ID  EVENTNUM  EVENTMSGTYPE  EVENTMSGACTIONTYPE  PERIOD WCTIMESTRING  \\\n",
       "3   21500001         3             4                   0       1      8:13 PM   \n",
       "9   21500001         9             4                   0       1      8:14 PM   \n",
       "11  21500001        11             4                   0       1      8:14 PM   \n",
       "18  21500001        21             4                   0       1      8:16 PM   \n",
       "21  21500001        24             4                   0       1      8:16 PM   \n",
       "\n",
       "   PCTIMESTRING                 HOMEDESCRIPTION  NEUTRALDESCRIPTION  \\\n",
       "3         11:39  Bazemore REBOUND (Off:0 Def:1)                 NaN   \n",
       "9         10:25                             NaN                 NaN   \n",
       "11        10:11  Bazemore REBOUND (Off:0 Def:2)                 NaN   \n",
       "18         9:28                             NaN                 NaN   \n",
       "21         9:11                             NaN                 NaN   \n",
       "\n",
       "                VISITORDESCRIPTION   ...    PLAYER3_ID PLAYER3_NAME  \\\n",
       "3                              NaN   ...             0          NaN   \n",
       "9    Jackson REBOUND (Off:0 Def:1)   ...             0          NaN   \n",
       "11                             NaN   ...             0          NaN   \n",
       "18  Drummond REBOUND (Off:0 Def:1)   ...             0          NaN   \n",
       "21  Drummond REBOUND (Off:0 Def:2)   ...             0          NaN   \n",
       "\n",
       "    PLAYER3_TEAM_ID  PLAYER3_TEAM_CITY PLAYER3_TEAM_NICKNAME  \\\n",
       "3               NaN                NaN                   NaN   \n",
       "9               NaN                NaN                   NaN   \n",
       "11              NaN                NaN                   NaN   \n",
       "18              NaN                NaN                   NaN   \n",
       "21              NaN                NaN                   NaN   \n",
       "\n",
       "    PLAYER3_TEAM_ABBREVIATION EVENTMSGTYPE_DESCRIPTION  \\\n",
       "3                         NaN                  Rebound   \n",
       "9                         NaN                  Rebound   \n",
       "11                        NaN                  Rebound   \n",
       "18                        NaN                  Rebound   \n",
       "21                        NaN                  Rebound   \n",
       "\n",
       "   EVENTMSGACTIONTYPE_DESCRIPTION SHOT_DISTANCE  OFF_REB  \n",
       "3                  Player Rebound           2.0    False  \n",
       "9                  Player Rebound          20.0    False  \n",
       "11                 Player Rebound           8.0    False  \n",
       "18                 Player Rebound          15.0    False  \n",
       "21                 Player Rebound           1.0    False  \n",
       "\n",
       "[5 rows x 37 columns]"
      ]
     },
     "execution_count": 7,
     "metadata": {},
     "output_type": "execute_result"
    }
   ],
   "source": [
    "missfg_reb_df = getOnlyIfPreviousEvent(pbp_df, e1 = 4, e2 = 0, e3 = 2) # Get player rebounds preceded by missed FG\n",
    "missfg_reb_df.head()"
   ]
  }
 ],
 "metadata": {
  "kernelspec": {
   "display_name": "Python 3",
   "language": "python",
   "name": "python3"
  },
  "language_info": {
   "codemirror_mode": {
    "name": "ipython",
    "version": 3
   },
   "file_extension": ".py",
   "mimetype": "text/x-python",
   "name": "python",
   "nbconvert_exporter": "python",
   "pygments_lexer": "ipython3",
   "version": "3.6.3"
  }
 },
 "nbformat": 4,
 "nbformat_minor": 2
}
